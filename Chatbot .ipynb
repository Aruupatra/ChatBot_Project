{
 "cells": [
  {
   "cell_type": "code",
   "execution_count": 3,
   "id": "3c071dfb",
   "metadata": {
    "executionInfo": {
     "elapsed": 575,
     "status": "ok",
     "timestamp": 1659539936412,
     "user": {
      "displayName": "SRI V VAMSI KRISHNA GUTTULA",
      "userId": "04583317577913900034"
     },
     "user_tz": -330
    },
    "id": "3c071dfb"
   },
   "outputs": [],
   "source": [
    "import nltk\n",
    "from nltk.stem import WordNetLemmatizer,PorterStemmer,SnowballStemmer\n",
    "import json\n",
    "import pickle\n",
    "import numpy as np\n",
    "from keras.models import Sequential\n",
    "from keras.layers import Dense, Activation, Dropout\n",
    "import random\n",
    "import pandas as pd"
   ]
  },
  {
   "cell_type": "code",
   "execution_count": 4,
   "id": "550c2c4e",
   "metadata": {},
   "outputs": [],
   "source": [
    "lemmatize = WordNetLemmatizer()\n",
    "stemming = PorterStemmer()"
   ]
  },
  {
   "cell_type": "code",
   "execution_count": 2,
   "id": "f777c444",
   "metadata": {},
   "outputs": [
    {
     "name": "stdout",
     "output_type": "stream",
     "text": [
      "Collecting nltk\n",
      "  Downloading nltk-3.8.1-py3-none-any.whl (1.5 MB)\n",
      "Collecting regex>=2021.8.3\n",
      "  Downloading regex-2024.5.15-cp39-cp39-win_amd64.whl (269 kB)\n",
      "Requirement already satisfied: joblib in c:\\users\\91955\\anaconda3\\new folder\\envs\\tf\\lib\\site-packages (from nltk) (1.1.0)\n",
      "Requirement already satisfied: click in c:\\users\\91955\\anaconda3\\new folder\\envs\\tf\\lib\\site-packages (from nltk) (8.0.4)\n",
      "Requirement already satisfied: tqdm in c:\\users\\91955\\anaconda3\\new folder\\envs\\tf\\lib\\site-packages (from nltk) (4.64.0)\n",
      "Requirement already satisfied: colorama in c:\\users\\91955\\anaconda3\\new folder\\envs\\tf\\lib\\site-packages (from click->nltk) (0.4.4)\n",
      "Installing collected packages: regex, nltk\n",
      "Successfully installed nltk-3.8.1 regex-2024.5.15\n",
      "Note: you may need to restart the kernel to use updated packages.\n"
     ]
    }
   ],
   "source": [
    "pip install nltk\n"
   ]
  },
  {
   "cell_type": "code",
   "execution_count": 5,
   "id": "jGYEoEnWSnpc",
   "metadata": {
    "colab": {
     "base_uri": "https://localhost:8080/"
    },
    "executionInfo": {
     "elapsed": 778,
     "status": "ok",
     "timestamp": 1659539987001,
     "user": {
      "displayName": "SRI V VAMSI KRISHNA GUTTULA",
      "userId": "04583317577913900034"
     },
     "user_tz": -330
    },
    "id": "jGYEoEnWSnpc",
    "outputId": "b8aae746-1191-47ae-8fbf-cecce61d0666"
   },
   "outputs": [
    {
     "name": "stderr",
     "output_type": "stream",
     "text": [
      "[nltk_data] Downloading package punkt to\n",
      "[nltk_data]     C:\\Users\\91955\\AppData\\Roaming\\nltk_data...\n",
      "[nltk_data]   Unzipping tokenizers\\punkt.zip.\n"
     ]
    },
    {
     "data": {
      "text/plain": [
       "True"
      ]
     },
     "execution_count": 5,
     "metadata": {},
     "output_type": "execute_result"
    }
   ],
   "source": [
    "nltk.download('punkt')"
   ]
  },
  {
   "cell_type": "code",
   "execution_count": 6,
   "id": "03459b8f",
   "metadata": {
    "id": "03459b8f",
    "outputId": "e6245dca-7c9b-4347-8ddf-ab3a8fd47182"
   },
   "outputs": [
    {
     "name": "stderr",
     "output_type": "stream",
     "text": [
      "[nltk_data] Downloading package wordnet to\n",
      "[nltk_data]     C:\\Users\\91955\\AppData\\Roaming\\nltk_data...\n"
     ]
    },
    {
     "data": {
      "text/plain": [
       "True"
      ]
     },
     "execution_count": 6,
     "metadata": {},
     "output_type": "execute_result"
    }
   ],
   "source": [
    "nltk.download('wordnet')"
   ]
  },
  {
   "cell_type": "code",
   "execution_count": 9,
   "id": "b2deb813",
   "metadata": {},
   "outputs": [
    {
     "name": "stderr",
     "output_type": "stream",
     "text": [
      "[nltk_data] Downloading package stopwords to\n",
      "[nltk_data]     C:\\Users\\91955\\AppData\\Roaming\\nltk_data...\n",
      "[nltk_data]   Unzipping corpora\\stopwords.zip.\n"
     ]
    },
    {
     "data": {
      "text/plain": [
       "True"
      ]
     },
     "execution_count": 9,
     "metadata": {},
     "output_type": "execute_result"
    }
   ],
   "source": [
    "import nltk\n",
    "nltk.download('stopwords')\n"
   ]
  },
  {
   "cell_type": "code",
   "execution_count": 10,
   "id": "e1bc94eb",
   "metadata": {
    "id": "e1bc94eb"
   },
   "outputs": [],
   "source": [
    "from nltk.corpus import stopwords"
   ]
  },
  {
   "cell_type": "code",
   "execution_count": 11,
   "id": "4622b682",
   "metadata": {
    "id": "4622b682",
    "outputId": "90799d15-d4b4-4621-b4e5-ba2e0467a26f"
   },
   "outputs": [
    {
     "data": {
      "text/plain": [
       "(179,\n",
       " ['i',\n",
       "  'me',\n",
       "  'my',\n",
       "  'myself',\n",
       "  'we',\n",
       "  'our',\n",
       "  'ours',\n",
       "  'ourselves',\n",
       "  'you',\n",
       "  \"you're\"])"
      ]
     },
     "execution_count": 11,
     "metadata": {},
     "output_type": "execute_result"
    }
   ],
   "source": [
    "stop_words = stopwords.words('english')\n",
    "len(stop_words),stop_words[:10]"
   ]
  },
  {
   "cell_type": "code",
   "execution_count": 14,
   "id": "f4d27601",
   "metadata": {
    "colab": {
     "base_uri": "https://localhost:8080/"
    },
    "executionInfo": {
     "elapsed": 451,
     "status": "ok",
     "timestamp": 1659540868730,
     "user": {
      "displayName": "SRI V VAMSI KRISHNA GUTTULA",
      "userId": "04583317577913900034"
     },
     "user_tz": -330
    },
    "id": "f4d27601",
    "outputId": "e0398490-5c0f-4f65-81e3-f18c9d37ec92"
   },
   "outputs": [],
   "source": [
    "words=[]\n",
    "classes = []\n",
    "documents = []\n",
    "ignore_words = ['?', '!',',',\"'s\"]\n",
    "data_file = open('C:/Users/91955/Downloads/intents.json').read()\n",
    "intents = json.loads(data_file)"
   ]
  },
  {
   "cell_type": "code",
   "execution_count": 15,
   "id": "c9d0d68d",
   "metadata": {},
   "outputs": [
    {
     "data": {
      "text/plain": [
       "{'intents': [{'tag': 'greeting',\n",
       "   'patterns': ['Hi there',\n",
       "    'How are you? ',\n",
       "    'Is anyone there?',\n",
       "    'Hey',\n",
       "    'Hola',\n",
       "    'Hello',\n",
       "    'Good day'],\n",
       "   'responses': ['Hi there, how can I help?',\n",
       "    'Welcome to our web portal',\n",
       "    'Good Day']},\n",
       "  {'tag': 'goodbye',\n",
       "   'patterns': ['Bye',\n",
       "    'See you later',\n",
       "    'Goodbye',\n",
       "    'Nice chatting to you, bye',\n",
       "    'Till next time'],\n",
       "   'responses': ['See you!', 'Have a nice day', 'Bye! Come back again soon.']},\n",
       "  {'tag': 'thanks',\n",
       "   'patterns': ['Thanks',\n",
       "    'Thank you',\n",
       "    \"That's helpful\",\n",
       "    'Awesome, thanks',\n",
       "    'Thanks for helping me',\n",
       "    'Thanks for the Help'],\n",
       "   'responses': ['Happy to help!', 'Any time!', 'My pleasure', 'welcome']},\n",
       "  {'tag': 'noanswer',\n",
       "   'patterns': [],\n",
       "   'responses': [\"Sorry, can't understand you\",\n",
       "    'Please give me more info',\n",
       "    'Not sure I understand']},\n",
       "  {'tag': 'options',\n",
       "   'patterns': ['How you could help me?',\n",
       "    'What you can do?',\n",
       "    'What help you provide?',\n",
       "    'How you can be helpful?',\n",
       "    'What support is offered'],\n",
       "   'responses': ['I can guide you through Adverse drug reaction list, Blood pressure tracking, Hospitals and Pharmacies',\n",
       "    'Offering support for Adverse drug reaction, Blood pressure, Hospitals and Pharmacies'],\n",
       "   'context': ['']},\n",
       "  {'tag': 'adverse_drug',\n",
       "   'patterns': ['How to check Adverse drug reaction?',\n",
       "    'Open adverse drugs module',\n",
       "    'Give me a list of drugs causing adverse behavior',\n",
       "    'List all drugs suitable for patient with adverse reaction',\n",
       "    'Which drugs dont have adverse reaction?'],\n",
       "   'responses': ['Navigating to Adverse drug reaction module'],\n",
       "   'context': ['']},\n",
       "  {'tag': 'blood_pressure',\n",
       "   'patterns': ['Open blood pressure module',\n",
       "    'Task related to blood pressure',\n",
       "    'Blood pressure data entry',\n",
       "    'I want to log blood pressure results',\n",
       "    'Blood pressure data management',\n",
       "    'cricket score'],\n",
       "   'responses': ['Navigating to Blood Pressure module'],\n",
       "   'context': ['']},\n",
       "  {'tag': 'blood_pressure_search',\n",
       "   'patterns': ['I want to search for blood pressure result history',\n",
       "    'Blood pressure for patient',\n",
       "    'Load patient blood pressure result',\n",
       "    'Show blood pressure results for patient',\n",
       "    'Find blood pressure results by ID'],\n",
       "   'responses': ['Please provide Patient ID', 'Patient ID?'],\n",
       "   'context': ['search_blood_pressure_by_patient_id']},\n",
       "  {'tag': 'search_blood_pressure_by_patient_id',\n",
       "   'patterns': [],\n",
       "   'responses': ['Loading Blood pressure result for Patient'],\n",
       "   'context': ['']},\n",
       "  {'tag': 'pharmacy_search',\n",
       "   'patterns': ['Find me a pharmacy',\n",
       "    'Find pharmacy',\n",
       "    'List of pharmacies nearby',\n",
       "    'Locate pharmacy',\n",
       "    'Search pharmacy'],\n",
       "   'responses': ['Please provide pharmacy name'],\n",
       "   'context': ['search_pharmacy_by_name']},\n",
       "  {'tag': 'search_pharmacy_by_name',\n",
       "   'patterns': [],\n",
       "   'responses': ['Loading pharmacy details'],\n",
       "   'context': ['']},\n",
       "  {'tag': 'hospital_search',\n",
       "   'patterns': ['Lookup for hospital',\n",
       "    'Searching for hospital to transfer patient',\n",
       "    'I want to search hospital data',\n",
       "    'Hospital lookup for patient',\n",
       "    'Looking up hospital details',\n",
       "    'movie review'],\n",
       "   'responses': ['Please provide hospital name or location'],\n",
       "   'context': ['search_hospital_by_params']},\n",
       "  {'tag': 'search_hospital_by_params',\n",
       "   'patterns': [],\n",
       "   'responses': ['Please provide hospital type'],\n",
       "   'context': ['search_hospital_by_type']},\n",
       "  {'tag': 'search_hospital_by_type',\n",
       "   'patterns': [],\n",
       "   'responses': ['Loading hospital details'],\n",
       "   'context': ['']}]}"
      ]
     },
     "execution_count": 15,
     "metadata": {},
     "output_type": "execute_result"
    }
   ],
   "source": [
    "intents"
   ]
  },
  {
   "cell_type": "code",
   "execution_count": 16,
   "id": "fcff8be7",
   "metadata": {
    "executionInfo": {
     "elapsed": 359,
     "status": "ok",
     "timestamp": 1659540874606,
     "user": {
      "displayName": "SRI V VAMSI KRISHNA GUTTULA",
      "userId": "04583317577913900034"
     },
     "user_tz": -330
    },
    "id": "fcff8be7"
   },
   "outputs": [],
   "source": [
    "for intent in intents['intents']:\n",
    "    for pattern in intent['patterns']:\n",
    "        #tokenize each word\n",
    "        w = nltk.word_tokenize(pattern)\n",
    "        words.extend(w)\n",
    "        #add documents in the corpus\n",
    "        documents.append((w, intent['tag']))\n",
    "        # add to our classes list\n",
    "        if intent['tag'] not in classes:\n",
    "            classes.append(intent['tag'])\n"
   ]
  },
  {
   "cell_type": "code",
   "execution_count": 17,
   "id": "df7266e0",
   "metadata": {},
   "outputs": [
    {
     "data": {
      "text/plain": [
       "(203, 9, 50)"
      ]
     },
     "execution_count": 17,
     "metadata": {},
     "output_type": "execute_result"
    }
   ],
   "source": [
    "len(words),len(classes),len(documents)"
   ]
  },
  {
   "cell_type": "code",
   "execution_count": 18,
   "id": "b9681a6e",
   "metadata": {},
   "outputs": [
    {
     "data": {
      "text/plain": [
       "[(['Hi', 'there'], 'greeting'),\n",
       " (['How', 'are', 'you', '?'], 'greeting'),\n",
       " (['Is', 'anyone', 'there', '?'], 'greeting'),\n",
       " (['Hey'], 'greeting'),\n",
       " (['Hola'], 'greeting'),\n",
       " (['Hello'], 'greeting'),\n",
       " (['Good', 'day'], 'greeting'),\n",
       " (['Bye'], 'goodbye'),\n",
       " (['See', 'you', 'later'], 'goodbye'),\n",
       " (['Goodbye'], 'goodbye'),\n",
       " (['Nice', 'chatting', 'to', 'you', ',', 'bye'], 'goodbye'),\n",
       " (['Till', 'next', 'time'], 'goodbye'),\n",
       " (['Thanks'], 'thanks'),\n",
       " (['Thank', 'you'], 'thanks'),\n",
       " (['That', \"'s\", 'helpful'], 'thanks'),\n",
       " (['Awesome', ',', 'thanks'], 'thanks'),\n",
       " (['Thanks', 'for', 'helping', 'me'], 'thanks'),\n",
       " (['Thanks', 'for', 'the', 'Help'], 'thanks'),\n",
       " (['How', 'you', 'could', 'help', 'me', '?'], 'options'),\n",
       " (['What', 'you', 'can', 'do', '?'], 'options'),\n",
       " (['What', 'help', 'you', 'provide', '?'], 'options'),\n",
       " (['How', 'you', 'can', 'be', 'helpful', '?'], 'options'),\n",
       " (['What', 'support', 'is', 'offered'], 'options'),\n",
       " (['How', 'to', 'check', 'Adverse', 'drug', 'reaction', '?'], 'adverse_drug'),\n",
       " (['Open', 'adverse', 'drugs', 'module'], 'adverse_drug'),\n",
       " (['Give', 'me', 'a', 'list', 'of', 'drugs', 'causing', 'adverse', 'behavior'],\n",
       "  'adverse_drug'),\n",
       " (['List',\n",
       "   'all',\n",
       "   'drugs',\n",
       "   'suitable',\n",
       "   'for',\n",
       "   'patient',\n",
       "   'with',\n",
       "   'adverse',\n",
       "   'reaction'],\n",
       "  'adverse_drug'),\n",
       " (['Which', 'drugs', 'dont', 'have', 'adverse', 'reaction', '?'],\n",
       "  'adverse_drug'),\n",
       " (['Open', 'blood', 'pressure', 'module'], 'blood_pressure'),\n",
       " (['Task', 'related', 'to', 'blood', 'pressure'], 'blood_pressure'),\n",
       " (['Blood', 'pressure', 'data', 'entry'], 'blood_pressure'),\n",
       " (['I', 'want', 'to', 'log', 'blood', 'pressure', 'results'],\n",
       "  'blood_pressure'),\n",
       " (['Blood', 'pressure', 'data', 'management'], 'blood_pressure'),\n",
       " (['cricket', 'score'], 'blood_pressure'),\n",
       " (['I',\n",
       "   'want',\n",
       "   'to',\n",
       "   'search',\n",
       "   'for',\n",
       "   'blood',\n",
       "   'pressure',\n",
       "   'result',\n",
       "   'history'],\n",
       "  'blood_pressure_search'),\n",
       " (['Blood', 'pressure', 'for', 'patient'], 'blood_pressure_search'),\n",
       " (['Load', 'patient', 'blood', 'pressure', 'result'], 'blood_pressure_search'),\n",
       " (['Show', 'blood', 'pressure', 'results', 'for', 'patient'],\n",
       "  'blood_pressure_search'),\n",
       " (['Find', 'blood', 'pressure', 'results', 'by', 'ID'],\n",
       "  'blood_pressure_search'),\n",
       " (['Find', 'me', 'a', 'pharmacy'], 'pharmacy_search'),\n",
       " (['Find', 'pharmacy'], 'pharmacy_search'),\n",
       " (['List', 'of', 'pharmacies', 'nearby'], 'pharmacy_search'),\n",
       " (['Locate', 'pharmacy'], 'pharmacy_search'),\n",
       " (['Search', 'pharmacy'], 'pharmacy_search'),\n",
       " (['Lookup', 'for', 'hospital'], 'hospital_search'),\n",
       " (['Searching', 'for', 'hospital', 'to', 'transfer', 'patient'],\n",
       "  'hospital_search'),\n",
       " (['I', 'want', 'to', 'search', 'hospital', 'data'], 'hospital_search'),\n",
       " (['Hospital', 'lookup', 'for', 'patient'], 'hospital_search'),\n",
       " (['Looking', 'up', 'hospital', 'details'], 'hospital_search'),\n",
       " (['movie', 'review'], 'hospital_search')]"
      ]
     },
     "execution_count": 18,
     "metadata": {},
     "output_type": "execute_result"
    }
   ],
   "source": [
    "documents\n"
   ]
  },
  {
   "cell_type": "code",
   "execution_count": 19,
   "id": "CvEs8dZ-Xc_r",
   "metadata": {
    "colab": {
     "base_uri": "https://localhost:8080/"
    },
    "executionInfo": {
     "elapsed": 400,
     "status": "ok",
     "timestamp": 1659541264323,
     "user": {
      "displayName": "SRI V VAMSI KRISHNA GUTTULA",
      "userId": "04583317577913900034"
     },
     "user_tz": -330
    },
    "id": "CvEs8dZ-Xc_r",
    "outputId": "a979da64-3da4-4daa-c9eb-40b9644d843b"
   },
   "outputs": [
    {
     "data": {
      "text/plain": [
       "['adverse_drug',\n",
       " 'blood_pressure',\n",
       " 'blood_pressure_search',\n",
       " 'goodbye',\n",
       " 'greeting',\n",
       " 'hospital_search',\n",
       " 'options',\n",
       " 'pharmacy_search',\n",
       " 'thanks']"
      ]
     },
     "execution_count": 19,
     "metadata": {},
     "output_type": "execute_result"
    }
   ],
   "source": [
    "sorted(classes)"
   ]
  },
  {
   "cell_type": "code",
   "execution_count": 20,
   "id": "7f0f60e7",
   "metadata": {},
   "outputs": [
    {
     "data": {
      "text/plain": [
       "203"
      ]
     },
     "execution_count": 20,
     "metadata": {},
     "output_type": "execute_result"
    }
   ],
   "source": [
    "len(words)"
   ]
  },
  {
   "cell_type": "code",
   "execution_count": 21,
   "id": "27c8eb43",
   "metadata": {
    "colab": {
     "base_uri": "https://localhost:8080/"
    },
    "executionInfo": {
     "elapsed": 636,
     "status": "ok",
     "timestamp": 1659541408447,
     "user": {
      "displayName": "SRI V VAMSI KRISHNA GUTTULA",
      "userId": "04583317577913900034"
     },
     "user_tz": -330
    },
    "id": "27c8eb43",
    "outputId": "1cf3cdc7-d40e-4bcc-84f5-6c9ed15f6cf0"
   },
   "outputs": [
    {
     "name": "stdout",
     "output_type": "stream",
     "text": [
      "50 documents\n",
      "9 classes ['adverse_drug', 'blood_pressure', 'blood_pressure_search', 'goodbye', 'greeting', 'hospital_search', 'options', 'pharmacy_search', 'thanks']\n",
      "68 unique lemmatized words ['adverse', 'anyone', 'awesome', 'behavior', 'blood', 'bye', 'causing', 'chatting', 'check', 'could', 'cricket', 'data', 'day', 'detail', 'dont', 'drug', 'entry', 'find', 'give', 'good', 'goodbye', 'hello', 'help', 'helpful', 'helping', 'hey', 'hi', 'history', 'hola', 'hospital', 'id', 'later', 'list', 'load', 'locate', 'log', 'looking', 'lookup', 'management', 'module', 'movie', 'nearby', 'next', 'nice', 'offered', 'open', 'patient', 'pharmacy', 'pressure', 'provide', 'reaction', 'related', 'result', 'review', 'score', 'search', 'searching', 'see', 'show', 'suitable', 'support', 'task', 'thank', 'thanks', 'till', 'time', 'transfer', 'want']\n"
     ]
    },
    {
     "ename": "FileNotFoundError",
     "evalue": "[Errno 2] No such file or directory: 'c:/chatbot/words.pkl'",
     "output_type": "error",
     "traceback": [
      "\u001b[1;31m---------------------------------------------------------------------------\u001b[0m",
      "\u001b[1;31mFileNotFoundError\u001b[0m                         Traceback (most recent call last)",
      "Input \u001b[1;32mIn [21]\u001b[0m, in \u001b[0;36m<cell line: 13>\u001b[1;34m()\u001b[0m\n\u001b[0;32m     11\u001b[0m \u001b[38;5;66;03m# words = all words, vocabulary\u001b[39;00m\n\u001b[0;32m     12\u001b[0m \u001b[38;5;28mprint\u001b[39m (\u001b[38;5;28mlen\u001b[39m(words), \u001b[38;5;124m\"\u001b[39m\u001b[38;5;124munique lemmatized words\u001b[39m\u001b[38;5;124m\"\u001b[39m, words)\n\u001b[1;32m---> 13\u001b[0m pickle\u001b[38;5;241m.\u001b[39mdump(words,\u001b[38;5;28;43mopen\u001b[39;49m\u001b[43m(\u001b[49m\u001b[38;5;124;43m'\u001b[39;49m\u001b[38;5;124;43mc:/chatbot/words.pkl\u001b[39;49m\u001b[38;5;124;43m'\u001b[39;49m\u001b[43m,\u001b[49m\u001b[38;5;124;43m'\u001b[39;49m\u001b[38;5;124;43mwb\u001b[39;49m\u001b[38;5;124;43m'\u001b[39;49m\u001b[43m)\u001b[49m)\n",
      "\u001b[1;31mFileNotFoundError\u001b[0m: [Errno 2] No such file or directory: 'c:/chatbot/words.pkl'"
     ]
    }
   ],
   "source": [
    "# lemmatize, lower each word and remove duplicates\n",
    "words = [lemmatize.lemmatize(w.lower()) for w in words if w not in ignore_words]\n",
    "words = [w for w in words if w not in stop_words]\n",
    "words = sorted(list(set(words)))\n",
    "# sort classes\n",
    "classes = sorted(list(set(classes)))\n",
    "# documents = combination between patterns and intents\n",
    "print (len(documents), \"documents\")\n",
    "# classes = intents\n",
    "print (len(classes), \"classes\", classes)\n",
    "# words = all words, vocabulary\n",
    "print (len(words), \"unique lemmatized words\", words)\n",
    "pickle.dump(words,open('c:/chatbot/words.pkl','wb'))"
   ]
  },
  {
   "cell_type": "code",
   "execution_count": 22,
   "id": "82ae8c69",
   "metadata": {
    "colab": {
     "base_uri": "https://localhost:8080/"
    },
    "executionInfo": {
     "elapsed": 5,
     "status": "ok",
     "timestamp": 1659542886440,
     "user": {
      "displayName": "SRI V VAMSI KRISHNA GUTTULA",
      "userId": "04583317577913900034"
     },
     "user_tz": -330
    },
    "id": "82ae8c69",
    "outputId": "27de0565-24b6-44ac-aaed-a321ea7832ce"
   },
   "outputs": [
    {
     "name": "stdout",
     "output_type": "stream",
     "text": [
      "Training data created\n",
      "(50, 68) (50, 9)\n"
     ]
    }
   ],
   "source": [
    "# create our training data\n",
    "training = []\n",
    "# create an empty array for our output\n",
    "output_empty = [0] * len(classes)\n",
    "# training set, bag of words for each sentence\n",
    "for doc in documents:\n",
    "    # initialize our bag of words\n",
    "    bag = []\n",
    "    # list of tokenized words for the pattern\n",
    "    pattern_words = doc[0]\n",
    "    # lemmatize each word - create base word, in attempt to represent related words\n",
    "    pattern_words = [lemmatize.lemmatize(word.lower()) for word in pattern_words]\n",
    "    # create our bag of words array with 1, if word match found in current pattern\n",
    "    for w in words:\n",
    "        if w in pattern_words:\n",
    "            bag.append(1)\n",
    "        else:\n",
    "            bag.append(0)\n",
    "    # output is a '0' for each tag and '1' for current tag (for each pattern)\n",
    "    output_row = list(output_empty)\n",
    "    output_row[classes.index(doc[1])] = 1\n",
    "    training.append([bag, output_row])\n",
    "# shuffle our features and turn into np.array\n",
    "#random.shuffle(training)\n",
    "#print(training)\n",
    "#training = np.array(training)\n",
    "train_x=[]\n",
    "train_y=[]\n",
    "# create train and test lists. X - patterns, Y - intents\n",
    "for w in training:\n",
    "    train_x.append(w[0])\n",
    "    train_y.append(w[1])\n",
    "print(\"Training data created\")\n",
    "train_x = np.array(train_x)\n",
    "train_y = np.array(train_y)\n",
    "print(train_x.shape,train_y.shape)"
   ]
  },
  {
   "cell_type": "code",
   "execution_count": 23,
   "id": "51b8b181",
   "metadata": {},
   "outputs": [
    {
     "data": {
      "text/plain": [
       "array([[0, 0, 0, 0, 0, 0, 0, 0, 0, 0, 0, 0, 0, 0, 0, 0, 0, 0, 0, 0, 0, 0,\n",
       "        0, 0, 0, 0, 1, 0, 0, 0, 0, 0, 0, 0, 0, 0, 0, 0, 0, 0, 0, 0, 0, 0,\n",
       "        0, 0, 0, 0, 0, 0, 0, 0, 0, 0, 0, 0, 0, 0, 0, 0, 0, 0, 0, 0, 0, 0,\n",
       "        0, 0],\n",
       "       [0, 0, 0, 0, 0, 0, 0, 0, 0, 0, 0, 0, 0, 0, 0, 0, 0, 0, 0, 0, 0, 0,\n",
       "        0, 0, 0, 0, 0, 0, 0, 0, 0, 0, 0, 0, 0, 0, 0, 0, 0, 0, 0, 0, 0, 0,\n",
       "        0, 0, 0, 0, 0, 0, 0, 0, 0, 0, 0, 0, 0, 0, 0, 0, 0, 0, 0, 0, 0, 0,\n",
       "        0, 0],\n",
       "       [0, 1, 0, 0, 0, 0, 0, 0, 0, 0, 0, 0, 0, 0, 0, 0, 0, 0, 0, 0, 0, 0,\n",
       "        0, 0, 0, 0, 0, 0, 0, 0, 0, 0, 0, 0, 0, 0, 0, 0, 0, 0, 0, 0, 0, 0,\n",
       "        0, 0, 0, 0, 0, 0, 0, 0, 0, 0, 0, 0, 0, 0, 0, 0, 0, 0, 0, 0, 0, 0,\n",
       "        0, 0],\n",
       "       [0, 0, 0, 0, 0, 0, 0, 0, 0, 0, 0, 0, 0, 0, 0, 0, 0, 0, 0, 0, 0, 0,\n",
       "        0, 0, 0, 1, 0, 0, 0, 0, 0, 0, 0, 0, 0, 0, 0, 0, 0, 0, 0, 0, 0, 0,\n",
       "        0, 0, 0, 0, 0, 0, 0, 0, 0, 0, 0, 0, 0, 0, 0, 0, 0, 0, 0, 0, 0, 0,\n",
       "        0, 0],\n",
       "       [0, 0, 0, 0, 0, 0, 0, 0, 0, 0, 0, 0, 0, 0, 0, 0, 0, 0, 0, 0, 0, 0,\n",
       "        0, 0, 0, 0, 0, 0, 1, 0, 0, 0, 0, 0, 0, 0, 0, 0, 0, 0, 0, 0, 0, 0,\n",
       "        0, 0, 0, 0, 0, 0, 0, 0, 0, 0, 0, 0, 0, 0, 0, 0, 0, 0, 0, 0, 0, 0,\n",
       "        0, 0]])"
      ]
     },
     "execution_count": 23,
     "metadata": {},
     "output_type": "execute_result"
    }
   ],
   "source": [
    "train_x[:5]"
   ]
  },
  {
   "cell_type": "code",
   "execution_count": 24,
   "id": "90d16545",
   "metadata": {},
   "outputs": [
    {
     "data": {
      "text/plain": [
       "(50, 68)"
      ]
     },
     "execution_count": 24,
     "metadata": {},
     "output_type": "execute_result"
    }
   ],
   "source": [
    "features = pd.DataFrame(np.array(train_x),columns=words)\n",
    "features.shape"
   ]
  },
  {
   "cell_type": "code",
   "execution_count": 25,
   "id": "6e64b8d3",
   "metadata": {},
   "outputs": [
    {
     "data": {
      "text/plain": [
       "0     1\n",
       "1     0\n",
       "2     1\n",
       "3     1\n",
       "4     1\n",
       "5     1\n",
       "6     2\n",
       "7     1\n",
       "8     2\n",
       "9     1\n",
       "10    3\n",
       "11    3\n",
       "12    1\n",
       "13    1\n",
       "14    1\n",
       "15    2\n",
       "16    2\n",
       "17    2\n",
       "18    2\n",
       "19    0\n",
       "20    2\n",
       "21    1\n",
       "22    2\n",
       "23    4\n",
       "24    4\n",
       "25    6\n",
       "26    6\n",
       "27    4\n",
       "28    4\n",
       "29    4\n",
       "30    4\n",
       "31    5\n",
       "32    4\n",
       "33    2\n",
       "34    6\n",
       "35    3\n",
       "36    5\n",
       "37    5\n",
       "38    5\n",
       "39    2\n",
       "40    2\n",
       "41    3\n",
       "42    2\n",
       "43    2\n",
       "44    2\n",
       "45    4\n",
       "46    4\n",
       "47    3\n",
       "48    3\n",
       "49    2\n",
       "dtype: int64"
      ]
     },
     "execution_count": 25,
     "metadata": {},
     "output_type": "execute_result"
    }
   ],
   "source": [
    "features.sum(axis=1)"
   ]
  },
  {
   "cell_type": "code",
   "execution_count": 26,
   "id": "fd8b3e77",
   "metadata": {},
   "outputs": [
    {
     "data": {
      "text/plain": [
       "(array([0, 0, 0, 0, 0, 0, 0, 0, 0, 0, 0, 0, 0, 0, 0, 0, 0, 0, 0, 0, 0, 0,\n",
       "        0, 0, 0, 0, 1, 0, 0, 0, 0, 0, 0, 0, 0, 0, 0, 0, 0, 0, 0, 0, 0, 0,\n",
       "        0, 0, 0, 0, 0, 0, 0, 0, 0, 0, 0, 0, 0, 0, 0, 0, 0, 0, 0, 0, 0, 0,\n",
       "        0, 0]),\n",
       " array([[0, 0, 0, 0, 1, 0, 0, 0, 0],\n",
       "        [0, 0, 0, 0, 1, 0, 0, 0, 0],\n",
       "        [0, 0, 0, 0, 1, 0, 0, 0, 0],\n",
       "        [0, 0, 0, 0, 1, 0, 0, 0, 0],\n",
       "        [0, 0, 0, 0, 1, 0, 0, 0, 0],\n",
       "        [0, 0, 0, 0, 1, 0, 0, 0, 0],\n",
       "        [0, 0, 0, 0, 1, 0, 0, 0, 0],\n",
       "        [0, 0, 0, 1, 0, 0, 0, 0, 0],\n",
       "        [0, 0, 0, 1, 0, 0, 0, 0, 0],\n",
       "        [0, 0, 0, 1, 0, 0, 0, 0, 0]]))"
      ]
     },
     "execution_count": 26,
     "metadata": {},
     "output_type": "execute_result"
    }
   ],
   "source": [
    "train_x[0],train_y[:10]"
   ]
  },
  {
   "cell_type": "code",
   "execution_count": 27,
   "id": "22122f24",
   "metadata": {
    "id": "22122f24",
    "outputId": "1ea99ceb-ae9b-4ce6-aa1c-11cb5c0b3434"
   },
   "outputs": [
    {
     "data": {
      "text/plain": [
       "['adverse_drug',\n",
       " 'blood_pressure',\n",
       " 'blood_pressure_search',\n",
       " 'goodbye',\n",
       " 'greeting',\n",
       " 'hospital_search',\n",
       " 'options',\n",
       " 'pharmacy_search',\n",
       " 'thanks']"
      ]
     },
     "execution_count": 27,
     "metadata": {},
     "output_type": "execute_result"
    }
   ],
   "source": [
    "classes"
   ]
  },
  {
   "cell_type": "code",
   "execution_count": 28,
   "id": "3e68f2db",
   "metadata": {
    "id": "3e68f2db",
    "outputId": "fae7e645-d77f-4951-98ce-9e2a1ce25e49"
   },
   "outputs": [
    {
     "name": "stdout",
     "output_type": "stream",
     "text": [
      "Model: \"sequential\"\n",
      "_________________________________________________________________\n",
      "Layer (type)                 Output Shape              Param #   \n",
      "=================================================================\n",
      "dense (Dense)                (None, 128)               8832      \n",
      "_________________________________________________________________\n",
      "dropout (Dropout)            (None, 128)               0         \n",
      "_________________________________________________________________\n",
      "dense_1 (Dense)              (None, 64)                8256      \n",
      "_________________________________________________________________\n",
      "dropout_1 (Dropout)          (None, 64)                0         \n",
      "_________________________________________________________________\n",
      "dense_2 (Dense)              (None, 9)                 585       \n",
      "=================================================================\n",
      "Total params: 17,673\n",
      "Trainable params: 17,673\n",
      "Non-trainable params: 0\n",
      "_________________________________________________________________\n"
     ]
    }
   ],
   "source": [
    "# Create model - 3 layers. First layer 128 neurons, second layer 64 neurons and 3rd output layer contains number of neurons\n",
    "# equal to number of intents to predict output intent with softmax\n",
    "model = Sequential()\n",
    "model.add(Dense(128, input_shape=(len(train_x[0]),), activation='relu'))\n",
    "model.add(Dropout(0.5))\n",
    "model.add(Dense(64, activation='relu'))\n",
    "model.add(Dropout(0.5))\n",
    "model.add(Dense(len(train_y[0]), activation='softmax'))\n",
    "# Compile model. Stochastic gradient descent with Nesterov accelerated gradient gives good results for this model\n",
    "model.summary()"
   ]
  },
  {
   "cell_type": "code",
   "execution_count": 29,
   "id": "51ba66fb",
   "metadata": {
    "id": "51ba66fb",
    "outputId": "f6824445-149b-41cc-e6c5-bb484a663e4e"
   },
   "outputs": [
    {
     "data": {
      "text/plain": [
       "(50, 68)"
      ]
     },
     "execution_count": 29,
     "metadata": {},
     "output_type": "execute_result"
    }
   ],
   "source": [
    "train_x.shape"
   ]
  },
  {
   "cell_type": "code",
   "execution_count": 30,
   "id": "d74c2b2c",
   "metadata": {
    "id": "d74c2b2c",
    "outputId": "30421d87-8a90-4c2a-bdff-fa3225a5a0ef"
   },
   "outputs": [
    {
     "name": "stdout",
     "output_type": "stream",
     "text": [
      "Epoch 1/300\n",
      "2/2 [==============================] - 1s 236ms/step - loss: 2.1985 - accuracy: 0.1111 - val_loss: 2.3662 - val_accuracy: 0.0000e+00\n",
      "Epoch 2/300\n",
      "2/2 [==============================] - 0s 44ms/step - loss: 2.1903 - accuracy: 0.0667 - val_loss: 2.3730 - val_accuracy: 0.0000e+00\n",
      "Epoch 3/300\n",
      "2/2 [==============================] - 0s 41ms/step - loss: 2.1845 - accuracy: 0.2222 - val_loss: 2.3827 - val_accuracy: 0.0000e+00\n",
      "Epoch 4/300\n",
      "2/2 [==============================] - 0s 43ms/step - loss: 2.1625 - accuracy: 0.0889 - val_loss: 2.3907 - val_accuracy: 0.0000e+00\n",
      "Epoch 5/300\n",
      "2/2 [==============================] - 0s 36ms/step - loss: 2.1347 - accuracy: 0.1333 - val_loss: 2.3995 - val_accuracy: 0.0000e+00\n",
      "Epoch 6/300\n",
      "2/2 [==============================] - 0s 44ms/step - loss: 2.0742 - accuracy: 0.1556 - val_loss: 2.4097 - val_accuracy: 0.0000e+00\n",
      "Epoch 7/300\n",
      "2/2 [==============================] - 0s 43ms/step - loss: 2.1063 - accuracy: 0.2444 - val_loss: 2.4218 - val_accuracy: 0.0000e+00\n",
      "Epoch 8/300\n",
      "2/2 [==============================] - 0s 40ms/step - loss: 2.1374 - accuracy: 0.2000 - val_loss: 2.4332 - val_accuracy: 0.0000e+00\n",
      "Epoch 9/300\n",
      "2/2 [==============================] - 0s 39ms/step - loss: 2.0810 - accuracy: 0.2667 - val_loss: 2.4442 - val_accuracy: 0.0000e+00\n",
      "Epoch 10/300\n",
      "2/2 [==============================] - 0s 39ms/step - loss: 2.0752 - accuracy: 0.2222 - val_loss: 2.4557 - val_accuracy: 0.0000e+00\n",
      "Epoch 11/300\n",
      "2/2 [==============================] - 0s 46ms/step - loss: 2.0518 - accuracy: 0.2667 - val_loss: 2.4689 - val_accuracy: 0.0000e+00\n",
      "Epoch 12/300\n",
      "2/2 [==============================] - 0s 38ms/step - loss: 2.0111 - accuracy: 0.3556 - val_loss: 2.4821 - val_accuracy: 0.0000e+00\n",
      "Epoch 13/300\n",
      "2/2 [==============================] - 0s 38ms/step - loss: 2.0142 - accuracy: 0.2889 - val_loss: 2.4957 - val_accuracy: 0.0000e+00\n",
      "Epoch 14/300\n",
      "2/2 [==============================] - 0s 36ms/step - loss: 1.9730 - accuracy: 0.2889 - val_loss: 2.5099 - val_accuracy: 0.0000e+00\n",
      "Epoch 15/300\n",
      "2/2 [==============================] - 0s 43ms/step - loss: 1.9616 - accuracy: 0.4667 - val_loss: 2.5265 - val_accuracy: 0.0000e+00\n",
      "Epoch 16/300\n",
      "2/2 [==============================] - 0s 43ms/step - loss: 1.9289 - accuracy: 0.4000 - val_loss: 2.5416 - val_accuracy: 0.0000e+00\n",
      "Epoch 17/300\n",
      "2/2 [==============================] - 0s 38ms/step - loss: 1.9295 - accuracy: 0.4222 - val_loss: 2.5562 - val_accuracy: 0.0000e+00\n",
      "Epoch 18/300\n",
      "2/2 [==============================] - 0s 50ms/step - loss: 1.9254 - accuracy: 0.4667 - val_loss: 2.5712 - val_accuracy: 0.0000e+00\n",
      "Epoch 19/300\n",
      "2/2 [==============================] - 0s 38ms/step - loss: 1.9064 - accuracy: 0.4000 - val_loss: 2.5884 - val_accuracy: 0.0000e+00\n",
      "Epoch 20/300\n",
      "2/2 [==============================] - 0s 38ms/step - loss: 1.8636 - accuracy: 0.4222 - val_loss: 2.6069 - val_accuracy: 0.0000e+00\n",
      "Epoch 21/300\n",
      "2/2 [==============================] - 0s 39ms/step - loss: 1.8103 - accuracy: 0.5111 - val_loss: 2.6281 - val_accuracy: 0.0000e+00\n",
      "Epoch 22/300\n",
      "2/2 [==============================] - 0s 40ms/step - loss: 1.7785 - accuracy: 0.5333 - val_loss: 2.6492 - val_accuracy: 0.0000e+00\n",
      "Epoch 23/300\n",
      "2/2 [==============================] - 0s 40ms/step - loss: 1.8102 - accuracy: 0.5333 - val_loss: 2.6703 - val_accuracy: 0.0000e+00\n",
      "Epoch 24/300\n",
      "2/2 [==============================] - 0s 41ms/step - loss: 1.7918 - accuracy: 0.5111 - val_loss: 2.6909 - val_accuracy: 0.0000e+00\n",
      "Epoch 25/300\n",
      "2/2 [==============================] - 0s 39ms/step - loss: 1.7731 - accuracy: 0.4667 - val_loss: 2.7089 - val_accuracy: 0.0000e+00\n",
      "Epoch 26/300\n",
      "2/2 [==============================] - 0s 41ms/step - loss: 1.7628 - accuracy: 0.6000 - val_loss: 2.7255 - val_accuracy: 0.0000e+00\n",
      "Epoch 27/300\n",
      "2/2 [==============================] - 0s 44ms/step - loss: 1.7160 - accuracy: 0.6000 - val_loss: 2.7452 - val_accuracy: 0.0000e+00\n",
      "Epoch 28/300\n",
      "2/2 [==============================] - 0s 41ms/step - loss: 1.6907 - accuracy: 0.5111 - val_loss: 2.7657 - val_accuracy: 0.0000e+00\n",
      "Epoch 29/300\n",
      "2/2 [==============================] - 0s 39ms/step - loss: 1.6056 - accuracy: 0.5778 - val_loss: 2.7870 - val_accuracy: 0.0000e+00\n",
      "Epoch 30/300\n",
      "2/2 [==============================] - 0s 38ms/step - loss: 1.7249 - accuracy: 0.6000 - val_loss: 2.8057 - val_accuracy: 0.0000e+00\n",
      "Epoch 31/300\n",
      "2/2 [==============================] - 0s 41ms/step - loss: 1.6367 - accuracy: 0.6222 - val_loss: 2.8238 - val_accuracy: 0.0000e+00\n",
      "Epoch 32/300\n",
      "2/2 [==============================] - 0s 40ms/step - loss: 1.6200 - accuracy: 0.6889 - val_loss: 2.8426 - val_accuracy: 0.0000e+00\n",
      "Epoch 33/300\n",
      "2/2 [==============================] - 0s 41ms/step - loss: 1.6433 - accuracy: 0.6000 - val_loss: 2.8599 - val_accuracy: 0.0000e+00\n",
      "Epoch 34/300\n",
      "2/2 [==============================] - 0s 39ms/step - loss: 1.5760 - accuracy: 0.5111 - val_loss: 2.8773 - val_accuracy: 0.0000e+00\n",
      "Epoch 35/300\n",
      "2/2 [==============================] - 0s 38ms/step - loss: 1.5219 - accuracy: 0.6000 - val_loss: 2.8970 - val_accuracy: 0.0000e+00\n",
      "Epoch 36/300\n",
      "2/2 [==============================] - 0s 42ms/step - loss: 1.5947 - accuracy: 0.5556 - val_loss: 2.9159 - val_accuracy: 0.0000e+00\n",
      "Epoch 37/300\n",
      "2/2 [==============================] - 0s 42ms/step - loss: 1.4544 - accuracy: 0.7556 - val_loss: 2.9345 - val_accuracy: 0.0000e+00\n",
      "Epoch 38/300\n",
      "2/2 [==============================] - 0s 40ms/step - loss: 1.4462 - accuracy: 0.7556 - val_loss: 2.9532 - val_accuracy: 0.0000e+00\n",
      "Epoch 39/300\n",
      "2/2 [==============================] - 0s 40ms/step - loss: 1.4425 - accuracy: 0.6889 - val_loss: 2.9731 - val_accuracy: 0.0000e+00\n",
      "Epoch 40/300\n",
      "2/2 [==============================] - 0s 43ms/step - loss: 1.5454 - accuracy: 0.5778 - val_loss: 2.9887 - val_accuracy: 0.0000e+00\n",
      "Epoch 41/300\n",
      "2/2 [==============================] - 0s 41ms/step - loss: 1.4454 - accuracy: 0.7111 - val_loss: 3.0013 - val_accuracy: 0.0000e+00\n",
      "Epoch 42/300\n",
      "2/2 [==============================] - 0s 41ms/step - loss: 1.3660 - accuracy: 0.7556 - val_loss: 3.0149 - val_accuracy: 0.0000e+00\n",
      "Epoch 43/300\n",
      "2/2 [==============================] - 0s 38ms/step - loss: 1.2642 - accuracy: 0.6444 - val_loss: 3.0298 - val_accuracy: 0.0000e+00\n",
      "Epoch 44/300\n",
      "2/2 [==============================] - 0s 43ms/step - loss: 1.2608 - accuracy: 0.7333 - val_loss: 3.0425 - val_accuracy: 0.0000e+00\n",
      "Epoch 45/300\n",
      "2/2 [==============================] - 0s 36ms/step - loss: 1.3520 - accuracy: 0.6889 - val_loss: 3.0583 - val_accuracy: 0.0000e+00\n",
      "Epoch 46/300\n",
      "2/2 [==============================] - 0s 40ms/step - loss: 1.2919 - accuracy: 0.7111 - val_loss: 3.0734 - val_accuracy: 0.0000e+00\n",
      "Epoch 47/300\n",
      "2/2 [==============================] - 0s 38ms/step - loss: 1.3120 - accuracy: 0.6889 - val_loss: 3.0898 - val_accuracy: 0.0000e+00\n",
      "Epoch 48/300\n",
      "2/2 [==============================] - 0s 41ms/step - loss: 1.2314 - accuracy: 0.7333 - val_loss: 3.1061 - val_accuracy: 0.0000e+00\n",
      "Epoch 49/300\n",
      "2/2 [==============================] - 0s 39ms/step - loss: 1.2573 - accuracy: 0.6889 - val_loss: 3.1176 - val_accuracy: 0.0000e+00\n",
      "Epoch 50/300\n",
      "2/2 [==============================] - 0s 40ms/step - loss: 1.1004 - accuracy: 0.7778 - val_loss: 3.1281 - val_accuracy: 0.0000e+00\n",
      "Epoch 51/300\n",
      "2/2 [==============================] - 0s 43ms/step - loss: 1.2489 - accuracy: 0.6667 - val_loss: 3.1419 - val_accuracy: 0.0000e+00\n",
      "Epoch 52/300\n",
      "2/2 [==============================] - 0s 48ms/step - loss: 1.0733 - accuracy: 0.8667 - val_loss: 3.1617 - val_accuracy: 0.0000e+00\n",
      "Epoch 53/300\n",
      "2/2 [==============================] - 0s 39ms/step - loss: 1.1642 - accuracy: 0.7111 - val_loss: 3.1818 - val_accuracy: 0.0000e+00\n",
      "Epoch 54/300\n",
      "2/2 [==============================] - 0s 41ms/step - loss: 1.0332 - accuracy: 0.7778 - val_loss: 3.1966 - val_accuracy: 0.0000e+00\n",
      "Epoch 55/300\n",
      "2/2 [==============================] - 0s 40ms/step - loss: 1.1049 - accuracy: 0.7333 - val_loss: 3.2061 - val_accuracy: 0.0000e+00\n",
      "Epoch 56/300\n",
      "2/2 [==============================] - 0s 37ms/step - loss: 1.1433 - accuracy: 0.6444 - val_loss: 3.2171 - val_accuracy: 0.0000e+00\n",
      "Epoch 57/300\n"
     ]
    },
    {
     "name": "stdout",
     "output_type": "stream",
     "text": [
      "2/2 [==============================] - 0s 38ms/step - loss: 0.9487 - accuracy: 0.8444 - val_loss: 3.2277 - val_accuracy: 0.0000e+00\n",
      "Epoch 58/300\n",
      "2/2 [==============================] - 0s 40ms/step - loss: 0.9658 - accuracy: 0.8444 - val_loss: 3.2368 - val_accuracy: 0.0000e+00\n",
      "Epoch 59/300\n",
      "2/2 [==============================] - 0s 39ms/step - loss: 0.9242 - accuracy: 0.8444 - val_loss: 3.2452 - val_accuracy: 0.0000e+00\n",
      "Epoch 60/300\n",
      "2/2 [==============================] - 0s 39ms/step - loss: 0.9243 - accuracy: 0.8000 - val_loss: 3.2528 - val_accuracy: 0.0000e+00\n",
      "Epoch 61/300\n",
      "2/2 [==============================] - 0s 40ms/step - loss: 0.8782 - accuracy: 0.8000 - val_loss: 3.2633 - val_accuracy: 0.0000e+00\n",
      "Epoch 62/300\n",
      "2/2 [==============================] - 0s 43ms/step - loss: 0.9962 - accuracy: 0.7111 - val_loss: 3.2731 - val_accuracy: 0.0000e+00\n",
      "Epoch 63/300\n",
      "2/2 [==============================] - 0s 40ms/step - loss: 1.0305 - accuracy: 0.7556 - val_loss: 3.2851 - val_accuracy: 0.0000e+00\n",
      "Epoch 64/300\n",
      "2/2 [==============================] - 0s 39ms/step - loss: 0.9291 - accuracy: 0.8222 - val_loss: 3.2985 - val_accuracy: 0.0000e+00\n",
      "Epoch 65/300\n",
      "2/2 [==============================] - 0s 39ms/step - loss: 0.7999 - accuracy: 0.8222 - val_loss: 3.3126 - val_accuracy: 0.0000e+00\n",
      "Epoch 66/300\n",
      "2/2 [==============================] - 0s 42ms/step - loss: 0.9222 - accuracy: 0.7556 - val_loss: 3.3273 - val_accuracy: 0.0000e+00\n",
      "Epoch 67/300\n",
      "2/2 [==============================] - 0s 40ms/step - loss: 0.9585 - accuracy: 0.7556 - val_loss: 3.3434 - val_accuracy: 0.0000e+00\n",
      "Epoch 68/300\n",
      "2/2 [==============================] - 0s 38ms/step - loss: 0.7636 - accuracy: 0.8444 - val_loss: 3.3592 - val_accuracy: 0.0000e+00\n",
      "Epoch 69/300\n",
      "2/2 [==============================] - 0s 38ms/step - loss: 0.8509 - accuracy: 0.7778 - val_loss: 3.3711 - val_accuracy: 0.0000e+00\n",
      "Epoch 70/300\n",
      "2/2 [==============================] - 0s 37ms/step - loss: 0.7844 - accuracy: 0.8667 - val_loss: 3.3800 - val_accuracy: 0.0000e+00\n",
      "Epoch 71/300\n",
      "2/2 [==============================] - 0s 43ms/step - loss: 0.9931 - accuracy: 0.7556 - val_loss: 3.3907 - val_accuracy: 0.0000e+00\n",
      "Epoch 72/300\n",
      "2/2 [==============================] - 0s 39ms/step - loss: 0.8424 - accuracy: 0.8222 - val_loss: 3.4015 - val_accuracy: 0.0000e+00\n",
      "Epoch 73/300\n",
      "2/2 [==============================] - 0s 41ms/step - loss: 0.7389 - accuracy: 0.8222 - val_loss: 3.4117 - val_accuracy: 0.0000e+00\n",
      "Epoch 74/300\n",
      "2/2 [==============================] - 0s 37ms/step - loss: 0.7697 - accuracy: 0.8000 - val_loss: 3.4242 - val_accuracy: 0.0000e+00\n",
      "Epoch 75/300\n",
      "2/2 [==============================] - 0s 36ms/step - loss: 0.6143 - accuracy: 0.8667 - val_loss: 3.4332 - val_accuracy: 0.0000e+00\n",
      "Epoch 76/300\n",
      "2/2 [==============================] - 0s 38ms/step - loss: 0.7170 - accuracy: 0.8222 - val_loss: 3.4410 - val_accuracy: 0.0000e+00\n",
      "Epoch 77/300\n",
      "2/2 [==============================] - 0s 37ms/step - loss: 0.7306 - accuracy: 0.8222 - val_loss: 3.4475 - val_accuracy: 0.0000e+00\n",
      "Epoch 78/300\n",
      "2/2 [==============================] - 0s 39ms/step - loss: 0.6858 - accuracy: 0.8889 - val_loss: 3.4468 - val_accuracy: 0.0000e+00\n",
      "Epoch 79/300\n",
      "2/2 [==============================] - 0s 37ms/step - loss: 0.6595 - accuracy: 0.8222 - val_loss: 3.4416 - val_accuracy: 0.0000e+00\n",
      "Epoch 80/300\n",
      "2/2 [==============================] - 0s 37ms/step - loss: 0.6920 - accuracy: 0.8889 - val_loss: 3.4373 - val_accuracy: 0.0000e+00\n",
      "Epoch 81/300\n",
      "2/2 [==============================] - 0s 37ms/step - loss: 0.7307 - accuracy: 0.8222 - val_loss: 3.4280 - val_accuracy: 0.0000e+00\n",
      "Epoch 82/300\n",
      "2/2 [==============================] - 0s 37ms/step - loss: 0.6327 - accuracy: 0.8444 - val_loss: 3.4170 - val_accuracy: 0.0000e+00\n",
      "Epoch 83/300\n",
      "2/2 [==============================] - 0s 40ms/step - loss: 0.5394 - accuracy: 0.9111 - val_loss: 3.4060 - val_accuracy: 0.0000e+00\n",
      "Epoch 84/300\n",
      "2/2 [==============================] - 0s 44ms/step - loss: 0.5782 - accuracy: 0.8667 - val_loss: 3.3973 - val_accuracy: 0.0000e+00\n",
      "Epoch 85/300\n",
      "2/2 [==============================] - 0s 45ms/step - loss: 0.5970 - accuracy: 0.9333 - val_loss: 3.3918 - val_accuracy: 0.0000e+00\n",
      "Epoch 86/300\n",
      "2/2 [==============================] - 0s 39ms/step - loss: 0.5724 - accuracy: 0.8000 - val_loss: 3.3888 - val_accuracy: 0.0000e+00\n",
      "Epoch 87/300\n",
      "2/2 [==============================] - 0s 45ms/step - loss: 0.6041 - accuracy: 0.8889 - val_loss: 3.3833 - val_accuracy: 0.0000e+00\n",
      "Epoch 88/300\n",
      "2/2 [==============================] - 0s 47ms/step - loss: 0.5701 - accuracy: 0.8889 - val_loss: 3.3809 - val_accuracy: 0.0000e+00\n",
      "Epoch 89/300\n",
      "2/2 [==============================] - 0s 40ms/step - loss: 0.5500 - accuracy: 0.9111 - val_loss: 3.3769 - val_accuracy: 0.0000e+00\n",
      "Epoch 90/300\n",
      "2/2 [==============================] - 0s 43ms/step - loss: 0.6060 - accuracy: 0.8222 - val_loss: 3.3777 - val_accuracy: 0.0000e+00\n",
      "Epoch 91/300\n",
      "2/2 [==============================] - 0s 42ms/step - loss: 0.6818 - accuracy: 0.8444 - val_loss: 3.3791 - val_accuracy: 0.0000e+00\n",
      "Epoch 92/300\n",
      "2/2 [==============================] - 0s 41ms/step - loss: 0.7546 - accuracy: 0.7556 - val_loss: 3.3807 - val_accuracy: 0.0000e+00\n",
      "Epoch 93/300\n",
      "2/2 [==============================] - 0s 47ms/step - loss: 0.6243 - accuracy: 0.8667 - val_loss: 3.3795 - val_accuracy: 0.0000e+00\n",
      "Epoch 94/300\n",
      "2/2 [==============================] - 0s 44ms/step - loss: 0.5266 - accuracy: 0.8667 - val_loss: 3.3735 - val_accuracy: 0.0000e+00\n",
      "Epoch 95/300\n",
      "2/2 [==============================] - 0s 46ms/step - loss: 0.6544 - accuracy: 0.8444 - val_loss: 3.3702 - val_accuracy: 0.0000e+00\n",
      "Epoch 96/300\n",
      "2/2 [==============================] - 0s 42ms/step - loss: 0.5603 - accuracy: 0.8667 - val_loss: 3.3685 - val_accuracy: 0.0000e+00\n",
      "Epoch 97/300\n",
      "2/2 [==============================] - 0s 40ms/step - loss: 0.5332 - accuracy: 0.9333 - val_loss: 3.3676 - val_accuracy: 0.0000e+00\n",
      "Epoch 98/300\n",
      "2/2 [==============================] - 0s 43ms/step - loss: 0.4751 - accuracy: 0.8667 - val_loss: 3.3665 - val_accuracy: 0.0000e+00\n",
      "Epoch 99/300\n",
      "2/2 [==============================] - 0s 41ms/step - loss: 0.5113 - accuracy: 0.9111 - val_loss: 3.3585 - val_accuracy: 0.0000e+00\n",
      "Epoch 100/300\n",
      "2/2 [==============================] - 0s 52ms/step - loss: 0.5049 - accuracy: 0.8222 - val_loss: 3.3444 - val_accuracy: 0.0000e+00\n",
      "Epoch 101/300\n",
      "2/2 [==============================] - 0s 40ms/step - loss: 0.4904 - accuracy: 0.8222 - val_loss: 3.3252 - val_accuracy: 0.0000e+00\n",
      "Epoch 102/300\n",
      "2/2 [==============================] - 0s 39ms/step - loss: 0.4160 - accuracy: 0.8889 - val_loss: 3.3024 - val_accuracy: 0.0000e+00\n",
      "Epoch 103/300\n",
      "2/2 [==============================] - 0s 40ms/step - loss: 0.4610 - accuracy: 0.9333 - val_loss: 3.2768 - val_accuracy: 0.0000e+00\n",
      "Epoch 104/300\n",
      "2/2 [==============================] - 0s 37ms/step - loss: 0.5313 - accuracy: 0.8889 - val_loss: 3.2473 - val_accuracy: 0.0000e+00\n",
      "Epoch 105/300\n",
      "2/2 [==============================] - 0s 38ms/step - loss: 0.4281 - accuracy: 0.8667 - val_loss: 3.2164 - val_accuracy: 0.0000e+00\n",
      "Epoch 106/300\n",
      "2/2 [==============================] - 0s 38ms/step - loss: 0.4993 - accuracy: 0.8667 - val_loss: 3.1849 - val_accuracy: 0.0000e+00\n",
      "Epoch 107/300\n",
      "2/2 [==============================] - 0s 38ms/step - loss: 0.4275 - accuracy: 0.8889 - val_loss: 3.1588 - val_accuracy: 0.0000e+00\n",
      "Epoch 108/300\n",
      "2/2 [==============================] - 0s 37ms/step - loss: 0.4905 - accuracy: 0.8222 - val_loss: 3.1355 - val_accuracy: 0.0000e+00\n",
      "Epoch 109/300\n",
      "2/2 [==============================] - 0s 37ms/step - loss: 0.3558 - accuracy: 0.9556 - val_loss: 3.1106 - val_accuracy: 0.0000e+00\n",
      "Epoch 110/300\n",
      "2/2 [==============================] - 0s 36ms/step - loss: 0.4781 - accuracy: 0.8889 - val_loss: 3.0838 - val_accuracy: 0.0000e+00\n",
      "Epoch 111/300\n",
      "2/2 [==============================] - 0s 37ms/step - loss: 0.4791 - accuracy: 0.8667 - val_loss: 3.0584 - val_accuracy: 0.0000e+00\n",
      "Epoch 112/300\n",
      "2/2 [==============================] - 0s 37ms/step - loss: 0.4359 - accuracy: 0.8889 - val_loss: 3.0300 - val_accuracy: 0.0000e+00\n",
      "Epoch 113/300\n"
     ]
    },
    {
     "name": "stdout",
     "output_type": "stream",
     "text": [
      "2/2 [==============================] - 0s 37ms/step - loss: 0.4022 - accuracy: 0.9111 - val_loss: 3.0051 - val_accuracy: 0.0000e+00\n",
      "Epoch 114/300\n",
      "2/2 [==============================] - 0s 38ms/step - loss: 0.4463 - accuracy: 0.8889 - val_loss: 2.9852 - val_accuracy: 0.0000e+00\n",
      "Epoch 115/300\n",
      "2/2 [==============================] - 0s 37ms/step - loss: 0.4270 - accuracy: 0.9333 - val_loss: 2.9674 - val_accuracy: 0.0000e+00\n",
      "Epoch 116/300\n",
      "2/2 [==============================] - 0s 41ms/step - loss: 0.3726 - accuracy: 0.9111 - val_loss: 2.9547 - val_accuracy: 0.0000e+00\n",
      "Epoch 117/300\n",
      "2/2 [==============================] - 0s 40ms/step - loss: 0.3357 - accuracy: 0.9333 - val_loss: 2.9466 - val_accuracy: 0.0000e+00\n",
      "Epoch 118/300\n",
      "2/2 [==============================] - 0s 38ms/step - loss: 0.3528 - accuracy: 0.9556 - val_loss: 2.9394 - val_accuracy: 0.0000e+00\n",
      "Epoch 119/300\n",
      "2/2 [==============================] - 0s 39ms/step - loss: 0.4105 - accuracy: 0.9333 - val_loss: 2.9344 - val_accuracy: 0.0000e+00\n",
      "Epoch 120/300\n",
      "2/2 [==============================] - 0s 37ms/step - loss: 0.3808 - accuracy: 0.8444 - val_loss: 2.9288 - val_accuracy: 0.0000e+00\n",
      "Epoch 121/300\n",
      "2/2 [==============================] - 0s 36ms/step - loss: 0.3056 - accuracy: 0.9333 - val_loss: 2.9185 - val_accuracy: 0.0000e+00\n",
      "Epoch 122/300\n",
      "2/2 [==============================] - 0s 37ms/step - loss: 0.4296 - accuracy: 0.8667 - val_loss: 2.9076 - val_accuracy: 0.0000e+00\n",
      "Epoch 123/300\n",
      "2/2 [==============================] - 0s 37ms/step - loss: 0.3229 - accuracy: 0.9111 - val_loss: 2.8993 - val_accuracy: 0.2000\n",
      "Epoch 124/300\n",
      "2/2 [==============================] - 0s 37ms/step - loss: 0.3476 - accuracy: 0.9333 - val_loss: 2.8943 - val_accuracy: 0.2000\n",
      "Epoch 125/300\n",
      "2/2 [==============================] - 0s 38ms/step - loss: 0.2609 - accuracy: 0.9556 - val_loss: 2.8871 - val_accuracy: 0.2000\n",
      "Epoch 126/300\n",
      "2/2 [==============================] - 0s 37ms/step - loss: 0.3770 - accuracy: 0.8889 - val_loss: 2.8797 - val_accuracy: 0.2000\n",
      "Epoch 127/300\n",
      "2/2 [==============================] - 0s 39ms/step - loss: 0.2892 - accuracy: 0.9778 - val_loss: 2.8644 - val_accuracy: 0.2000\n",
      "Epoch 128/300\n",
      "2/2 [==============================] - 0s 43ms/step - loss: 0.3418 - accuracy: 0.8889 - val_loss: 2.8539 - val_accuracy: 0.2000\n",
      "Epoch 129/300\n",
      "2/2 [==============================] - 0s 38ms/step - loss: 0.3505 - accuracy: 0.9556 - val_loss: 2.8491 - val_accuracy: 0.2000\n",
      "Epoch 130/300\n",
      "2/2 [==============================] - 0s 35ms/step - loss: 0.3194 - accuracy: 0.9333 - val_loss: 2.8454 - val_accuracy: 0.2000\n",
      "Epoch 131/300\n",
      "2/2 [==============================] - 0s 38ms/step - loss: 0.3050 - accuracy: 0.9333 - val_loss: 2.8443 - val_accuracy: 0.2000\n",
      "Epoch 132/300\n",
      "2/2 [==============================] - 0s 38ms/step - loss: 0.3062 - accuracy: 0.9556 - val_loss: 2.8454 - val_accuracy: 0.2000\n",
      "Epoch 133/300\n",
      "2/2 [==============================] - 0s 38ms/step - loss: 0.2979 - accuracy: 0.9333 - val_loss: 2.8453 - val_accuracy: 0.2000\n",
      "Epoch 134/300\n",
      "2/2 [==============================] - 0s 37ms/step - loss: 0.3354 - accuracy: 0.9111 - val_loss: 2.8374 - val_accuracy: 0.2000\n",
      "Epoch 135/300\n",
      "2/2 [==============================] - 0s 38ms/step - loss: 0.2583 - accuracy: 0.9556 - val_loss: 2.8259 - val_accuracy: 0.2000\n",
      "Epoch 136/300\n",
      "2/2 [==============================] - 0s 37ms/step - loss: 0.3297 - accuracy: 0.9111 - val_loss: 2.8183 - val_accuracy: 0.2000\n",
      "Epoch 137/300\n",
      "2/2 [==============================] - 0s 40ms/step - loss: 0.3491 - accuracy: 0.8444 - val_loss: 2.8150 - val_accuracy: 0.2000\n",
      "Epoch 138/300\n",
      "2/2 [==============================] - 0s 36ms/step - loss: 0.2863 - accuracy: 0.9333 - val_loss: 2.8112 - val_accuracy: 0.2000\n",
      "Epoch 139/300\n",
      "2/2 [==============================] - 0s 37ms/step - loss: 0.3350 - accuracy: 0.9111 - val_loss: 2.8060 - val_accuracy: 0.2000\n",
      "Epoch 140/300\n",
      "2/2 [==============================] - 0s 36ms/step - loss: 0.2831 - accuracy: 0.9111 - val_loss: 2.8019 - val_accuracy: 0.2000\n",
      "Epoch 141/300\n",
      "2/2 [==============================] - 0s 35ms/step - loss: 0.2685 - accuracy: 0.9111 - val_loss: 2.7974 - val_accuracy: 0.2000\n",
      "Epoch 142/300\n",
      "2/2 [==============================] - 0s 38ms/step - loss: 0.2542 - accuracy: 0.9556 - val_loss: 2.7920 - val_accuracy: 0.2000\n",
      "Epoch 143/300\n",
      "2/2 [==============================] - 0s 36ms/step - loss: 0.2727 - accuracy: 0.9111 - val_loss: 2.7873 - val_accuracy: 0.2000\n",
      "Epoch 144/300\n",
      "2/2 [==============================] - 0s 39ms/step - loss: 0.2854 - accuracy: 0.8889 - val_loss: 2.7810 - val_accuracy: 0.2000\n",
      "Epoch 145/300\n",
      "2/2 [==============================] - 0s 53ms/step - loss: 0.3249 - accuracy: 0.9111 - val_loss: 2.7739 - val_accuracy: 0.2000\n",
      "Epoch 146/300\n",
      "2/2 [==============================] - 0s 39ms/step - loss: 0.2894 - accuracy: 0.9556 - val_loss: 2.7661 - val_accuracy: 0.2000\n",
      "Epoch 147/300\n",
      "2/2 [==============================] - 0s 43ms/step - loss: 0.2555 - accuracy: 0.9333 - val_loss: 2.7593 - val_accuracy: 0.2000\n",
      "Epoch 148/300\n",
      "2/2 [==============================] - 0s 43ms/step - loss: 0.3188 - accuracy: 0.9111 - val_loss: 2.7563 - val_accuracy: 0.2000\n",
      "Epoch 149/300\n",
      "2/2 [==============================] - 0s 48ms/step - loss: 0.2732 - accuracy: 0.9333 - val_loss: 2.7455 - val_accuracy: 0.2000\n",
      "Epoch 150/300\n",
      "2/2 [==============================] - 0s 42ms/step - loss: 0.2288 - accuracy: 0.9333 - val_loss: 2.7331 - val_accuracy: 0.2000\n",
      "Epoch 151/300\n",
      "2/2 [==============================] - 0s 43ms/step - loss: 0.2577 - accuracy: 0.8889 - val_loss: 2.7169 - val_accuracy: 0.2000\n",
      "Epoch 152/300\n",
      "2/2 [==============================] - 0s 42ms/step - loss: 0.2770 - accuracy: 0.9333 - val_loss: 2.6955 - val_accuracy: 0.2000\n",
      "Epoch 153/300\n",
      "2/2 [==============================] - 0s 46ms/step - loss: 0.3061 - accuracy: 0.8889 - val_loss: 2.6660 - val_accuracy: 0.2000\n",
      "Epoch 154/300\n",
      "2/2 [==============================] - 0s 45ms/step - loss: 0.2663 - accuracy: 0.9333 - val_loss: 2.6332 - val_accuracy: 0.2000\n",
      "Epoch 155/300\n",
      "2/2 [==============================] - 0s 45ms/step - loss: 0.1924 - accuracy: 0.9556 - val_loss: 2.6108 - val_accuracy: 0.2000\n",
      "Epoch 156/300\n",
      "2/2 [==============================] - 0s 42ms/step - loss: 0.2498 - accuracy: 0.9333 - val_loss: 2.5899 - val_accuracy: 0.2000\n",
      "Epoch 157/300\n",
      "2/2 [==============================] - 0s 49ms/step - loss: 0.2104 - accuracy: 0.8889 - val_loss: 2.5646 - val_accuracy: 0.2000\n",
      "Epoch 158/300\n",
      "2/2 [==============================] - 0s 41ms/step - loss: 0.1961 - accuracy: 0.9778 - val_loss: 2.5390 - val_accuracy: 0.4000\n",
      "Epoch 159/300\n",
      "2/2 [==============================] - 0s 45ms/step - loss: 0.2785 - accuracy: 0.9556 - val_loss: 2.5136 - val_accuracy: 0.4000\n",
      "Epoch 160/300\n",
      "2/2 [==============================] - 0s 46ms/step - loss: 0.2657 - accuracy: 0.9556 - val_loss: 2.4942 - val_accuracy: 0.4000\n",
      "Epoch 161/300\n",
      "2/2 [==============================] - 0s 47ms/step - loss: 0.1818 - accuracy: 0.9778 - val_loss: 2.4817 - val_accuracy: 0.4000\n",
      "Epoch 162/300\n",
      "2/2 [==============================] - 0s 43ms/step - loss: 0.2416 - accuracy: 0.9556 - val_loss: 2.4706 - val_accuracy: 0.4000\n",
      "Epoch 163/300\n",
      "2/2 [==============================] - 0s 46ms/step - loss: 0.3117 - accuracy: 0.8889 - val_loss: 2.4563 - val_accuracy: 0.4000\n",
      "Epoch 164/300\n",
      "2/2 [==============================] - 0s 48ms/step - loss: 0.2299 - accuracy: 0.9333 - val_loss: 2.4375 - val_accuracy: 0.4000\n",
      "Epoch 165/300\n",
      "2/2 [==============================] - 0s 45ms/step - loss: 0.2571 - accuracy: 0.8667 - val_loss: 2.4211 - val_accuracy: 0.4000\n",
      "Epoch 166/300\n",
      "2/2 [==============================] - ETA: 0s - loss: 0.2630 - accuracy: 0.90 - 0s 44ms/step - loss: 0.2307 - accuracy: 0.9333 - val_loss: 2.4046 - val_accuracy: 0.4000\n",
      "Epoch 167/300\n",
      "2/2 [==============================] - 0s 41ms/step - loss: 0.1630 - accuracy: 0.9556 - val_loss: 2.3886 - val_accuracy: 0.4000\n",
      "Epoch 168/300\n",
      "2/2 [==============================] - 0s 43ms/step - loss: 0.2041 - accuracy: 0.9333 - val_loss: 2.3767 - val_accuracy: 0.4000\n",
      "Epoch 169/300\n",
      "2/2 [==============================] - 0s 40ms/step - loss: 0.3311 - accuracy: 0.9111 - val_loss: 2.3615 - val_accuracy: 0.4000\n",
      "Epoch 170/300\n"
     ]
    },
    {
     "name": "stdout",
     "output_type": "stream",
     "text": [
      "2/2 [==============================] - 0s 37ms/step - loss: 0.2020 - accuracy: 0.9778 - val_loss: 2.3469 - val_accuracy: 0.4000\n",
      "Epoch 171/300\n",
      "2/2 [==============================] - 0s 38ms/step - loss: 0.2539 - accuracy: 0.9333 - val_loss: 2.3307 - val_accuracy: 0.4000\n",
      "Epoch 172/300\n",
      "2/2 [==============================] - 0s 36ms/step - loss: 0.2079 - accuracy: 0.9556 - val_loss: 2.3135 - val_accuracy: 0.4000\n",
      "Epoch 173/300\n",
      "2/2 [==============================] - 0s 38ms/step - loss: 0.1895 - accuracy: 0.9556 - val_loss: 2.2992 - val_accuracy: 0.4000\n",
      "Epoch 174/300\n",
      "2/2 [==============================] - 0s 37ms/step - loss: 0.2417 - accuracy: 0.9333 - val_loss: 2.2879 - val_accuracy: 0.4000\n",
      "Epoch 175/300\n",
      "2/2 [==============================] - 0s 37ms/step - loss: 0.1762 - accuracy: 0.9333 - val_loss: 2.2797 - val_accuracy: 0.4000\n",
      "Epoch 176/300\n",
      "2/2 [==============================] - 0s 39ms/step - loss: 0.2710 - accuracy: 0.9333 - val_loss: 2.2748 - val_accuracy: 0.4000\n",
      "Epoch 177/300\n",
      "2/2 [==============================] - 0s 36ms/step - loss: 0.2556 - accuracy: 0.9333 - val_loss: 2.2734 - val_accuracy: 0.4000\n",
      "Epoch 178/300\n",
      "2/2 [==============================] - 0s 36ms/step - loss: 0.1837 - accuracy: 0.9556 - val_loss: 2.2709 - val_accuracy: 0.4000\n",
      "Epoch 179/300\n",
      "2/2 [==============================] - 0s 36ms/step - loss: 0.1699 - accuracy: 0.9333 - val_loss: 2.2654 - val_accuracy: 0.4000\n",
      "Epoch 180/300\n",
      "2/2 [==============================] - 0s 37ms/step - loss: 0.2021 - accuracy: 0.9333 - val_loss: 2.2575 - val_accuracy: 0.4000\n",
      "Epoch 181/300\n",
      "2/2 [==============================] - 0s 37ms/step - loss: 0.1780 - accuracy: 0.9111 - val_loss: 2.2479 - val_accuracy: 0.4000\n",
      "Epoch 182/300\n",
      "2/2 [==============================] - 0s 38ms/step - loss: 0.2429 - accuracy: 0.9333 - val_loss: 2.2347 - val_accuracy: 0.4000\n",
      "Epoch 183/300\n",
      "2/2 [==============================] - 0s 42ms/step - loss: 0.2117 - accuracy: 0.9111 - val_loss: 2.2193 - val_accuracy: 0.4000\n",
      "Epoch 184/300\n",
      "2/2 [==============================] - 0s 37ms/step - loss: 0.2370 - accuracy: 0.9333 - val_loss: 2.2090 - val_accuracy: 0.4000\n",
      "Epoch 185/300\n",
      "2/2 [==============================] - 0s 49ms/step - loss: 0.1811 - accuracy: 0.9111 - val_loss: 2.1942 - val_accuracy: 0.4000\n",
      "Epoch 186/300\n",
      "2/2 [==============================] - 0s 38ms/step - loss: 0.3012 - accuracy: 0.8889 - val_loss: 2.1770 - val_accuracy: 0.4000\n",
      "Epoch 187/300\n",
      "2/2 [==============================] - 0s 38ms/step - loss: 0.2064 - accuracy: 0.9111 - val_loss: 2.1588 - val_accuracy: 0.4000\n",
      "Epoch 188/300\n",
      "2/2 [==============================] - 0s 36ms/step - loss: 0.2020 - accuracy: 0.9778 - val_loss: 2.1518 - val_accuracy: 0.4000\n",
      "Epoch 189/300\n",
      "2/2 [==============================] - 0s 35ms/step - loss: 0.2806 - accuracy: 0.9333 - val_loss: 2.1454 - val_accuracy: 0.4000\n",
      "Epoch 190/300\n",
      "2/2 [==============================] - 0s 37ms/step - loss: 0.1510 - accuracy: 0.9333 - val_loss: 2.1404 - val_accuracy: 0.4000\n",
      "Epoch 191/300\n",
      "2/2 [==============================] - 0s 37ms/step - loss: 0.2231 - accuracy: 0.9333 - val_loss: 2.1370 - val_accuracy: 0.4000\n",
      "Epoch 192/300\n",
      "2/2 [==============================] - 0s 38ms/step - loss: 0.2376 - accuracy: 0.9333 - val_loss: 2.1390 - val_accuracy: 0.4000\n",
      "Epoch 193/300\n",
      "2/2 [==============================] - 0s 38ms/step - loss: 0.2170 - accuracy: 0.9333 - val_loss: 2.1414 - val_accuracy: 0.4000\n",
      "Epoch 194/300\n",
      "2/2 [==============================] - 0s 41ms/step - loss: 0.1412 - accuracy: 1.0000 - val_loss: 2.1412 - val_accuracy: 0.4000\n",
      "Epoch 195/300\n",
      "2/2 [==============================] - 0s 39ms/step - loss: 0.1925 - accuracy: 0.9556 - val_loss: 2.1404 - val_accuracy: 0.4000\n",
      "Epoch 196/300\n",
      "2/2 [==============================] - 0s 38ms/step - loss: 0.1496 - accuracy: 1.0000 - val_loss: 2.1383 - val_accuracy: 0.4000\n",
      "Epoch 197/300\n",
      "2/2 [==============================] - 0s 40ms/step - loss: 0.2071 - accuracy: 0.9333 - val_loss: 2.1420 - val_accuracy: 0.4000\n",
      "Epoch 198/300\n",
      "2/2 [==============================] - 0s 39ms/step - loss: 0.1163 - accuracy: 0.9556 - val_loss: 2.1453 - val_accuracy: 0.4000\n",
      "Epoch 199/300\n",
      "2/2 [==============================] - 0s 37ms/step - loss: 0.1773 - accuracy: 0.9333 - val_loss: 2.1491 - val_accuracy: 0.4000\n",
      "Epoch 200/300\n",
      "2/2 [==============================] - 0s 39ms/step - loss: 0.2392 - accuracy: 0.8889 - val_loss: 2.1547 - val_accuracy: 0.4000\n",
      "Epoch 201/300\n",
      "2/2 [==============================] - 0s 40ms/step - loss: 0.1973 - accuracy: 0.9556 - val_loss: 2.1587 - val_accuracy: 0.4000\n",
      "Epoch 202/300\n",
      "2/2 [==============================] - 0s 37ms/step - loss: 0.1634 - accuracy: 0.9778 - val_loss: 2.1616 - val_accuracy: 0.4000\n",
      "Epoch 203/300\n",
      "2/2 [==============================] - 0s 40ms/step - loss: 0.1348 - accuracy: 0.9778 - val_loss: 2.1612 - val_accuracy: 0.4000\n",
      "Epoch 204/300\n",
      "2/2 [==============================] - 0s 38ms/step - loss: 0.2406 - accuracy: 0.9333 - val_loss: 2.1640 - val_accuracy: 0.4000\n",
      "Epoch 205/300\n",
      "2/2 [==============================] - 0s 35ms/step - loss: 0.1559 - accuracy: 0.9778 - val_loss: 2.1658 - val_accuracy: 0.4000\n",
      "Epoch 206/300\n",
      "2/2 [==============================] - 0s 38ms/step - loss: 0.2515 - accuracy: 0.8889 - val_loss: 2.1668 - val_accuracy: 0.4000\n",
      "Epoch 207/300\n",
      "2/2 [==============================] - 0s 36ms/step - loss: 0.1915 - accuracy: 0.9778 - val_loss: 2.1725 - val_accuracy: 0.4000\n",
      "Epoch 208/300\n",
      "2/2 [==============================] - 0s 37ms/step - loss: 0.1857 - accuracy: 0.9333 - val_loss: 2.1831 - val_accuracy: 0.4000\n",
      "Epoch 209/300\n",
      "2/2 [==============================] - 0s 42ms/step - loss: 0.1436 - accuracy: 0.9556 - val_loss: 2.1962 - val_accuracy: 0.4000\n",
      "Epoch 210/300\n",
      "2/2 [==============================] - 0s 49ms/step - loss: 0.1403 - accuracy: 0.9778 - val_loss: 2.2072 - val_accuracy: 0.4000\n",
      "Epoch 211/300\n",
      "2/2 [==============================] - 0s 45ms/step - loss: 0.1347 - accuracy: 0.9556 - val_loss: 2.2216 - val_accuracy: 0.4000\n",
      "Epoch 212/300\n",
      "2/2 [==============================] - 0s 37ms/step - loss: 0.1908 - accuracy: 0.9556 - val_loss: 2.2353 - val_accuracy: 0.4000\n",
      "Epoch 213/300\n",
      "2/2 [==============================] - 0s 41ms/step - loss: 0.1788 - accuracy: 0.9556 - val_loss: 2.2472 - val_accuracy: 0.4000\n",
      "Epoch 214/300\n",
      "2/2 [==============================] - 0s 41ms/step - loss: 0.1719 - accuracy: 0.9111 - val_loss: 2.2563 - val_accuracy: 0.4000\n",
      "Epoch 215/300\n",
      "2/2 [==============================] - 0s 39ms/step - loss: 0.2011 - accuracy: 0.9556 - val_loss: 2.2602 - val_accuracy: 0.4000\n",
      "Epoch 216/300\n",
      "2/2 [==============================] - 0s 42ms/step - loss: 0.1387 - accuracy: 0.9778 - val_loss: 2.2595 - val_accuracy: 0.4000\n",
      "Epoch 217/300\n",
      "2/2 [==============================] - 0s 40ms/step - loss: 0.2218 - accuracy: 0.9111 - val_loss: 2.2601 - val_accuracy: 0.4000\n",
      "Epoch 218/300\n",
      "2/2 [==============================] - 0s 36ms/step - loss: 0.2794 - accuracy: 0.8889 - val_loss: 2.2514 - val_accuracy: 0.4000\n",
      "Epoch 219/300\n",
      "2/2 [==============================] - 0s 40ms/step - loss: 0.1632 - accuracy: 0.9333 - val_loss: 2.2435 - val_accuracy: 0.4000\n",
      "Epoch 220/300\n",
      "2/2 [==============================] - 0s 43ms/step - loss: 0.2351 - accuracy: 0.8889 - val_loss: 2.2303 - val_accuracy: 0.4000\n",
      "Epoch 221/300\n",
      "2/2 [==============================] - 0s 44ms/step - loss: 0.1543 - accuracy: 0.9556 - val_loss: 2.2154 - val_accuracy: 0.4000\n",
      "Epoch 222/300\n",
      "2/2 [==============================] - 0s 50ms/step - loss: 0.1525 - accuracy: 0.9111 - val_loss: 2.1989 - val_accuracy: 0.4000\n",
      "Epoch 223/300\n",
      "2/2 [==============================] - 0s 38ms/step - loss: 0.1753 - accuracy: 0.9333 - val_loss: 2.1860 - val_accuracy: 0.4000\n",
      "Epoch 224/300\n",
      "2/2 [==============================] - 0s 36ms/step - loss: 0.1689 - accuracy: 0.9556 - val_loss: 2.1724 - val_accuracy: 0.4000\n",
      "Epoch 225/300\n",
      "2/2 [==============================] - 0s 41ms/step - loss: 0.1834 - accuracy: 0.9333 - val_loss: 2.1584 - val_accuracy: 0.4000\n",
      "Epoch 226/300\n",
      "2/2 [==============================] - 0s 44ms/step - loss: 0.1473 - accuracy: 0.9778 - val_loss: 2.1441 - val_accuracy: 0.4000\n",
      "Epoch 227/300\n",
      "2/2 [==============================] - 0s 44ms/step - loss: 0.2625 - accuracy: 0.9111 - val_loss: 2.1353 - val_accuracy: 0.4000\n"
     ]
    },
    {
     "name": "stdout",
     "output_type": "stream",
     "text": [
      "Epoch 228/300\n",
      "2/2 [==============================] - 0s 43ms/step - loss: 0.1235 - accuracy: 0.9778 - val_loss: 2.1260 - val_accuracy: 0.4000\n",
      "Epoch 229/300\n",
      "2/2 [==============================] - 0s 45ms/step - loss: 0.1921 - accuracy: 0.9556 - val_loss: 2.1159 - val_accuracy: 0.4000\n",
      "Epoch 230/300\n",
      "2/2 [==============================] - 0s 46ms/step - loss: 0.1843 - accuracy: 0.9333 - val_loss: 2.1047 - val_accuracy: 0.4000\n",
      "Epoch 231/300\n",
      "2/2 [==============================] - 0s 46ms/step - loss: 0.1410 - accuracy: 0.9556 - val_loss: 2.0944 - val_accuracy: 0.4000\n",
      "Epoch 232/300\n",
      "2/2 [==============================] - 0s 42ms/step - loss: 0.1236 - accuracy: 0.9556 - val_loss: 2.0819 - val_accuracy: 0.4000\n",
      "Epoch 233/300\n",
      "2/2 [==============================] - 0s 41ms/step - loss: 0.1729 - accuracy: 0.9333 - val_loss: 2.0684 - val_accuracy: 0.4000\n",
      "Epoch 234/300\n",
      "2/2 [==============================] - 0s 38ms/step - loss: 0.1398 - accuracy: 0.9556 - val_loss: 2.0523 - val_accuracy: 0.4000\n",
      "Epoch 235/300\n",
      "2/2 [==============================] - 0s 38ms/step - loss: 0.1853 - accuracy: 0.9333 - val_loss: 2.0385 - val_accuracy: 0.4000\n",
      "Epoch 236/300\n",
      "2/2 [==============================] - 0s 40ms/step - loss: 0.1015 - accuracy: 0.9778 - val_loss: 2.0249 - val_accuracy: 0.4000\n",
      "Epoch 237/300\n",
      "2/2 [==============================] - 0s 45ms/step - loss: 0.1819 - accuracy: 0.9333 - val_loss: 2.0074 - val_accuracy: 0.4000\n",
      "Epoch 238/300\n",
      "2/2 [==============================] - 0s 45ms/step - loss: 0.3039 - accuracy: 0.9333 - val_loss: 1.9959 - val_accuracy: 0.4000\n",
      "Epoch 239/300\n",
      "2/2 [==============================] - 0s 36ms/step - loss: 0.1788 - accuracy: 0.9556 - val_loss: 1.9863 - val_accuracy: 0.4000\n",
      "Epoch 240/300\n",
      "2/2 [==============================] - 0s 39ms/step - loss: 0.1248 - accuracy: 0.9778 - val_loss: 1.9803 - val_accuracy: 0.4000\n",
      "Epoch 241/300\n",
      "2/2 [==============================] - 0s 38ms/step - loss: 0.1526 - accuracy: 0.9556 - val_loss: 1.9737 - val_accuracy: 0.4000\n",
      "Epoch 242/300\n",
      "2/2 [==============================] - 0s 42ms/step - loss: 0.1881 - accuracy: 0.8889 - val_loss: 1.9635 - val_accuracy: 0.4000\n",
      "Epoch 243/300\n",
      "2/2 [==============================] - 0s 43ms/step - loss: 0.1554 - accuracy: 0.9778 - val_loss: 1.9571 - val_accuracy: 0.4000\n",
      "Epoch 244/300\n",
      "2/2 [==============================] - 0s 40ms/step - loss: 0.1643 - accuracy: 0.9333 - val_loss: 1.9560 - val_accuracy: 0.4000\n",
      "Epoch 245/300\n",
      "2/2 [==============================] - 0s 37ms/step - loss: 0.1235 - accuracy: 0.9556 - val_loss: 1.9521 - val_accuracy: 0.4000\n",
      "Epoch 246/300\n",
      "2/2 [==============================] - 0s 38ms/step - loss: 0.1692 - accuracy: 0.9111 - val_loss: 1.9414 - val_accuracy: 0.4000\n",
      "Epoch 247/300\n",
      "2/2 [==============================] - 0s 45ms/step - loss: 0.2159 - accuracy: 0.9111 - val_loss: 1.9316 - val_accuracy: 0.4000\n",
      "Epoch 248/300\n",
      "2/2 [==============================] - 0s 42ms/step - loss: 0.1454 - accuracy: 0.9556 - val_loss: 1.9203 - val_accuracy: 0.4000\n",
      "Epoch 249/300\n",
      "2/2 [==============================] - 0s 50ms/step - loss: 0.1347 - accuracy: 0.9556 - val_loss: 1.9141 - val_accuracy: 0.4000\n",
      "Epoch 250/300\n",
      "2/2 [==============================] - 0s 41ms/step - loss: 0.1177 - accuracy: 0.9778 - val_loss: 1.9134 - val_accuracy: 0.4000\n",
      "Epoch 251/300\n",
      "2/2 [==============================] - 0s 42ms/step - loss: 0.1181 - accuracy: 0.9556 - val_loss: 1.9128 - val_accuracy: 0.4000\n",
      "Epoch 252/300\n",
      "2/2 [==============================] - 0s 43ms/step - loss: 0.1134 - accuracy: 0.9556 - val_loss: 1.9163 - val_accuracy: 0.4000\n",
      "Epoch 253/300\n",
      "2/2 [==============================] - 0s 44ms/step - loss: 0.1453 - accuracy: 0.9778 - val_loss: 1.9175 - val_accuracy: 0.4000\n",
      "Epoch 254/300\n",
      "2/2 [==============================] - 0s 38ms/step - loss: 0.0921 - accuracy: 0.9556 - val_loss: 1.9172 - val_accuracy: 0.4000\n",
      "Epoch 255/300\n",
      "2/2 [==============================] - 0s 40ms/step - loss: 0.2379 - accuracy: 0.8889 - val_loss: 1.9093 - val_accuracy: 0.4000\n",
      "Epoch 256/300\n",
      "2/2 [==============================] - 0s 45ms/step - loss: 0.0957 - accuracy: 0.9778 - val_loss: 1.9067 - val_accuracy: 0.4000\n",
      "Epoch 257/300\n",
      "2/2 [==============================] - 0s 47ms/step - loss: 0.2138 - accuracy: 0.9333 - val_loss: 1.9041 - val_accuracy: 0.4000\n",
      "Epoch 258/300\n",
      "2/2 [==============================] - 0s 37ms/step - loss: 0.1616 - accuracy: 0.9556 - val_loss: 1.9004 - val_accuracy: 0.4000\n",
      "Epoch 259/300\n",
      "2/2 [==============================] - ETA: 0s - loss: 0.1284 - accuracy: 0.96 - 0s 37ms/step - loss: 0.1369 - accuracy: 0.9556 - val_loss: 1.8947 - val_accuracy: 0.4000\n",
      "Epoch 260/300\n",
      "2/2 [==============================] - 0s 37ms/step - loss: 0.1275 - accuracy: 0.9556 - val_loss: 1.8897 - val_accuracy: 0.4000\n",
      "Epoch 261/300\n",
      "2/2 [==============================] - 0s 37ms/step - loss: 0.1816 - accuracy: 0.9111 - val_loss: 1.8854 - val_accuracy: 0.4000\n",
      "Epoch 262/300\n",
      "2/2 [==============================] - 0s 40ms/step - loss: 0.1400 - accuracy: 0.9556 - val_loss: 1.8808 - val_accuracy: 0.4000\n",
      "Epoch 263/300\n",
      "2/2 [==============================] - 0s 39ms/step - loss: 0.1555 - accuracy: 0.9556 - val_loss: 1.8709 - val_accuracy: 0.4000\n",
      "Epoch 264/300\n",
      "2/2 [==============================] - 0s 41ms/step - loss: 0.1446 - accuracy: 0.9333 - val_loss: 1.8626 - val_accuracy: 0.4000\n",
      "Epoch 265/300\n",
      "2/2 [==============================] - 0s 39ms/step - loss: 0.2029 - accuracy: 0.9111 - val_loss: 1.8537 - val_accuracy: 0.4000\n",
      "Epoch 266/300\n",
      "2/2 [==============================] - 0s 55ms/step - loss: 0.1025 - accuracy: 0.9556 - val_loss: 1.8464 - val_accuracy: 0.4000\n",
      "Epoch 267/300\n",
      "2/2 [==============================] - 0s 43ms/step - loss: 0.1126 - accuracy: 0.9556 - val_loss: 1.8383 - val_accuracy: 0.4000\n",
      "Epoch 268/300\n",
      "2/2 [==============================] - 0s 35ms/step - loss: 0.1663 - accuracy: 0.8889 - val_loss: 1.8246 - val_accuracy: 0.4000\n",
      "Epoch 269/300\n",
      "2/2 [==============================] - 0s 38ms/step - loss: 0.1294 - accuracy: 0.9556 - val_loss: 1.8074 - val_accuracy: 0.4000\n",
      "Epoch 270/300\n",
      "2/2 [==============================] - 0s 43ms/step - loss: 0.1176 - accuracy: 0.9778 - val_loss: 1.7933 - val_accuracy: 0.4000\n",
      "Epoch 271/300\n",
      "2/2 [==============================] - 0s 40ms/step - loss: 0.1790 - accuracy: 0.9556 - val_loss: 1.7812 - val_accuracy: 0.4000\n",
      "Epoch 272/300\n",
      "2/2 [==============================] - 0s 37ms/step - loss: 0.1434 - accuracy: 0.9778 - val_loss: 1.7728 - val_accuracy: 0.4000\n",
      "Epoch 273/300\n",
      "2/2 [==============================] - 0s 40ms/step - loss: 0.1968 - accuracy: 0.9333 - val_loss: 1.7668 - val_accuracy: 0.4000\n",
      "Epoch 274/300\n",
      "2/2 [==============================] - 0s 39ms/step - loss: 0.1507 - accuracy: 0.9778 - val_loss: 1.7584 - val_accuracy: 0.4000\n",
      "Epoch 275/300\n",
      "2/2 [==============================] - 0s 38ms/step - loss: 0.0931 - accuracy: 0.9778 - val_loss: 1.7478 - val_accuracy: 0.4000\n",
      "Epoch 276/300\n",
      "2/2 [==============================] - 0s 40ms/step - loss: 0.0948 - accuracy: 0.9556 - val_loss: 1.7368 - val_accuracy: 0.4000\n",
      "Epoch 277/300\n",
      "2/2 [==============================] - 0s 38ms/step - loss: 0.1893 - accuracy: 0.9333 - val_loss: 1.7298 - val_accuracy: 0.4000\n",
      "Epoch 278/300\n",
      "2/2 [==============================] - 0s 39ms/step - loss: 0.1128 - accuracy: 1.0000 - val_loss: 1.7241 - val_accuracy: 0.4000\n",
      "Epoch 279/300\n",
      "2/2 [==============================] - 0s 36ms/step - loss: 0.1594 - accuracy: 0.9333 - val_loss: 1.7205 - val_accuracy: 0.4000\n",
      "Epoch 280/300\n",
      "2/2 [==============================] - 0s 38ms/step - loss: 0.2302 - accuracy: 0.8889 - val_loss: 1.7120 - val_accuracy: 0.4000\n",
      "Epoch 281/300\n",
      "2/2 [==============================] - 0s 37ms/step - loss: 0.1470 - accuracy: 0.9556 - val_loss: 1.6963 - val_accuracy: 0.4000\n",
      "Epoch 282/300\n",
      "2/2 [==============================] - 0s 38ms/step - loss: 0.1141 - accuracy: 0.9778 - val_loss: 1.6814 - val_accuracy: 0.4000\n",
      "Epoch 283/300\n",
      "2/2 [==============================] - 0s 47ms/step - loss: 0.1258 - accuracy: 0.9333 - val_loss: 1.6683 - val_accuracy: 0.4000\n",
      "Epoch 284/300\n",
      "2/2 [==============================] - 0s 48ms/step - loss: 0.0873 - accuracy: 0.9556 - val_loss: 1.6578 - val_accuracy: 0.4000\n",
      "Epoch 285/300\n"
     ]
    },
    {
     "name": "stdout",
     "output_type": "stream",
     "text": [
      "2/2 [==============================] - 0s 49ms/step - loss: 0.0786 - accuracy: 1.0000 - val_loss: 1.6506 - val_accuracy: 0.4000\n",
      "Epoch 286/300\n",
      "2/2 [==============================] - 0s 40ms/step - loss: 0.1677 - accuracy: 0.9556 - val_loss: 1.6445 - val_accuracy: 0.4000\n",
      "Epoch 287/300\n",
      "2/2 [==============================] - 0s 41ms/step - loss: 0.1094 - accuracy: 0.9556 - val_loss: 1.6391 - val_accuracy: 0.4000\n",
      "Epoch 288/300\n",
      "2/2 [==============================] - 0s 38ms/step - loss: 0.1586 - accuracy: 0.9333 - val_loss: 1.6346 - val_accuracy: 0.6000\n",
      "Epoch 289/300\n",
      "2/2 [==============================] - 0s 38ms/step - loss: 0.1508 - accuracy: 0.9556 - val_loss: 1.6308 - val_accuracy: 0.6000\n",
      "Epoch 290/300\n",
      "2/2 [==============================] - 0s 38ms/step - loss: 0.1255 - accuracy: 0.9556 - val_loss: 1.6296 - val_accuracy: 0.6000\n",
      "Epoch 291/300\n",
      "2/2 [==============================] - 0s 39ms/step - loss: 0.1852 - accuracy: 0.9111 - val_loss: 1.6339 - val_accuracy: 0.6000\n",
      "Epoch 292/300\n",
      "2/2 [==============================] - 0s 38ms/step - loss: 0.1529 - accuracy: 0.9333 - val_loss: 1.6441 - val_accuracy: 0.6000\n",
      "Epoch 293/300\n",
      "2/2 [==============================] - 0s 39ms/step - loss: 0.1495 - accuracy: 0.9333 - val_loss: 1.6513 - val_accuracy: 0.6000\n",
      "Epoch 294/300\n",
      "2/2 [==============================] - 0s 38ms/step - loss: 0.1773 - accuracy: 0.9333 - val_loss: 1.6619 - val_accuracy: 0.6000\n",
      "Epoch 295/300\n",
      "2/2 [==============================] - 0s 39ms/step - loss: 0.1117 - accuracy: 0.9778 - val_loss: 1.6714 - val_accuracy: 0.6000\n",
      "Epoch 296/300\n",
      "2/2 [==============================] - 0s 42ms/step - loss: 0.1559 - accuracy: 0.9778 - val_loss: 1.6755 - val_accuracy: 0.6000\n",
      "Epoch 297/300\n",
      "2/2 [==============================] - 0s 39ms/step - loss: 0.1834 - accuracy: 0.9556 - val_loss: 1.6816 - val_accuracy: 0.6000\n",
      "Epoch 298/300\n",
      "2/2 [==============================] - 0s 37ms/step - loss: 0.1855 - accuracy: 0.9333 - val_loss: 1.6814 - val_accuracy: 0.6000\n",
      "Epoch 299/300\n",
      "2/2 [==============================] - 0s 36ms/step - loss: 0.1232 - accuracy: 0.9556 - val_loss: 1.6791 - val_accuracy: 0.6000\n",
      "Epoch 300/300\n",
      "2/2 [==============================] - 0s 35ms/step - loss: 0.1194 - accuracy: 1.0000 - val_loss: 1.6755 - val_accuracy: 0.6000\n",
      "model created\n"
     ]
    }
   ],
   "source": [
    "model.compile(loss='categorical_crossentropy', optimizer='adam', metrics=['accuracy'])\n",
    "#fitting and saving the model \n",
    "model.fit(np.array(train_x), np.array(train_y), epochs=300, batch_size=32, validation_split=0.1)\n",
    "model.save('c:/chatbot/chatbot_model.h5')\n",
    "print(\"model created\")"
   ]
  },
  {
   "cell_type": "code",
   "execution_count": 31,
   "id": "b8821912",
   "metadata": {
    "id": "0fc1cb87"
   },
   "outputs": [],
   "source": [
    "from nltk.stem import WordNetLemmatizer\n",
    "lemmatizer = WordNetLemmatizer()\n",
    "import pickle\n",
    "import numpy as np\n",
    "from keras.models import load_model"
   ]
  },
  {
   "cell_type": "code",
   "execution_count": 32,
   "id": "0fc1cb87",
   "metadata": {
    "id": "0fc1cb87"
   },
   "outputs": [
    {
     "ename": "FileNotFoundError",
     "evalue": "[Errno 2] No such file or directory: 'c:/chatbot/intents.json'",
     "output_type": "error",
     "traceback": [
      "\u001b[1;31m---------------------------------------------------------------------------\u001b[0m",
      "\u001b[1;31mFileNotFoundError\u001b[0m                         Traceback (most recent call last)",
      "Input \u001b[1;32mIn [32]\u001b[0m, in \u001b[0;36m<cell line: 4>\u001b[1;34m()\u001b[0m\n\u001b[0;32m      2\u001b[0m \u001b[38;5;28;01mimport\u001b[39;00m \u001b[38;5;21;01mjson\u001b[39;00m\n\u001b[0;32m      3\u001b[0m \u001b[38;5;28;01mimport\u001b[39;00m \u001b[38;5;21;01mrandom\u001b[39;00m\n\u001b[1;32m----> 4\u001b[0m intents \u001b[38;5;241m=\u001b[39m json\u001b[38;5;241m.\u001b[39mloads(\u001b[38;5;28;43mopen\u001b[39;49m\u001b[43m(\u001b[49m\u001b[38;5;124;43m'\u001b[39;49m\u001b[38;5;124;43mc:/chatbot/intents.json\u001b[39;49m\u001b[38;5;124;43m'\u001b[39;49m\u001b[43m)\u001b[49m\u001b[38;5;241m.\u001b[39mread())\n\u001b[0;32m      5\u001b[0m words \u001b[38;5;241m=\u001b[39m pickle\u001b[38;5;241m.\u001b[39mload(\u001b[38;5;28mopen\u001b[39m(\u001b[38;5;124m'\u001b[39m\u001b[38;5;124mc:/chatbot/words.pkl\u001b[39m\u001b[38;5;124m'\u001b[39m,\u001b[38;5;124m'\u001b[39m\u001b[38;5;124mrb\u001b[39m\u001b[38;5;124m'\u001b[39m))\n",
      "\u001b[1;31mFileNotFoundError\u001b[0m: [Errno 2] No such file or directory: 'c:/chatbot/intents.json'"
     ]
    }
   ],
   "source": [
    "model = load_model('c:/chatbot/chatbot_model.h5')\n",
    "import json\n",
    "import random\n",
    "intents = json.loads(open('c:/chatbot/intents.json').read())\n",
    "words = pickle.load(open('c:/chatbot/words.pkl','rb'))"
   ]
  },
  {
   "cell_type": "code",
   "execution_count": 33,
   "id": "4dc9aab5",
   "metadata": {
    "id": "4dc9aab5"
   },
   "outputs": [],
   "source": [
    "def clean_up_sentence(sentence):\n",
    "    # tokenize the pattern - split words into array\n",
    "    sentence_words = nltk.word_tokenize(sentence)\n",
    "    # stem each word - create short form for word\n",
    "    sentence_words = [lemmatizer.lemmatize(word.lower()) for word in sentence_words]\n",
    "    return sentence_words\n",
    "# return bag of words array: 0 or 1 for each word in the bag that exists in the sentence\n",
    "def bow(sentence, words, show_details=True):\n",
    "    # tokenize the pattern\n",
    "    sentence_words = clean_up_sentence(sentence)\n",
    "    # bag of words - matrix of N words, vocabulary matrix\n",
    "    bag = [0]*len(words) \n",
    "    for s in sentence_words:\n",
    "        for i,w in enumerate(words):\n",
    "            if w == s: \n",
    "                # assign 1 if current word is in the vocabulary position\n",
    "                bag[i] = 1\n",
    "                if show_details:\n",
    "                    print (\"found in bag: %s\" % w)\n",
    "    return(np.array(bag))\n",
    "def predict_class(sentence, model):\n",
    "    # filter out predictions below a threshold\n",
    "    p = bow(sentence, words,show_details=False)\n",
    "    res = model.predict(np.array([p]))[0]\n",
    "    ERROR_THRESHOLD = 0.3\n",
    "    results = [[i,r] for i,r in enumerate(res) if r>ERROR_THRESHOLD]\n",
    "    # sort by strength of probability\n",
    "    results.sort(key=lambda x: x[1], reverse=True)\n",
    "    return_list = []\n",
    "    for r in results:\n",
    "        return_list.append({\"intent\": classes[r[0]], \"probability\": str(r[1])})\n",
    "    return return_list"
   ]
  },
  {
   "cell_type": "code",
   "execution_count": 34,
   "id": "0725af24",
   "metadata": {},
   "outputs": [
    {
     "name": "stdout",
     "output_type": "stream",
     "text": [
      "Enter the text:hi\n"
     ]
    }
   ],
   "source": [
    "pattern = input('Enter the text:')"
   ]
  },
  {
   "cell_type": "code",
   "execution_count": 35,
   "id": "dbcd7387",
   "metadata": {},
   "outputs": [
    {
     "data": {
      "text/plain": [
       "[{'intent': 'greeting', 'probability': '0.99365824'}]"
      ]
     },
     "execution_count": 35,
     "metadata": {},
     "output_type": "execute_result"
    }
   ],
   "source": [
    "predict_class(pattern,model)"
   ]
  },
  {
   "cell_type": "code",
   "execution_count": 36,
   "id": "c5a00c2f",
   "metadata": {
    "id": "c5a00c2f"
   },
   "outputs": [],
   "source": [
    "def getResponse(ints, intents_json):\n",
    "    tag = ints[0]['intent']\n",
    "    list_of_intents = intents_json['intents']\n",
    "    for i in list_of_intents:\n",
    "        if(i['tag']== tag):\n",
    "            result = random.choice(i['responses'])\n",
    "            break\n",
    "    return result\n",
    "def chatbot_response(text):\n",
    "    ints = predict_class(text, model)\n",
    "    res = getResponse(ints, intents)\n",
    "    return res"
   ]
  },
  {
   "cell_type": "code",
   "execution_count": 37,
   "id": "068b7a6a",
   "metadata": {},
   "outputs": [
    {
     "data": {
      "text/plain": [
       "'Any time!'"
      ]
     },
     "execution_count": 37,
     "metadata": {},
     "output_type": "execute_result"
    }
   ],
   "source": [
    "getResponse([{'intent': 'thanks', 'probability': '0.85703474'}],intents)"
   ]
  },
  {
   "cell_type": "code",
   "execution_count": 41,
   "id": "4e283755",
   "metadata": {},
   "outputs": [
    {
     "name": "stdout",
     "output_type": "stream",
     "text": [
      "Enter the Text:hi\n"
     ]
    },
    {
     "data": {
      "text/plain": [
       "'Welcome to our web portal'"
      ]
     },
     "execution_count": 41,
     "metadata": {},
     "output_type": "execute_result"
    }
   ],
   "source": [
    "pattern = input(\"Enter the Text:\")\n",
    "chatbot_response(pattern)"
   ]
  },
  {
   "cell_type": "code",
   "execution_count": null,
   "id": "8ec67539",
   "metadata": {
    "id": "8ec67539"
   },
   "outputs": [],
   "source": [
    "#Creating GUI with tkinter\n",
    "import tkinter\n",
    "from tkinter import *\n",
    "def send():\n",
    "    msg = EntryBox.get(\"1.0\",'end-1c').strip()\n",
    "    EntryBox.delete(\"0.0\",END)\n",
    "    if msg != '':\n",
    "        ChatLog.config(state=NORMAL)\n",
    "        ChatLog.insert(END, \"You: \" + msg + '\\n\\n')\n",
    "        ChatLog.config(foreground=\"#442265\", font=(\"Verdana\", 12 ))\n",
    "        res = chatbot_response(msg)\n",
    "        ChatLog.insert(END, \"Bot: \" + res + '\\n\\n')\n",
    "        ChatLog.config(state=DISABLED)\n",
    "        ChatLog.yview(END)\n",
    "base = Tk()\n",
    "base.title(\"Hello\")\n",
    "base.geometry(\"400x500\")\n",
    "base.resizable(width=FALSE, height=FALSE)\n",
    "#Create Chat window\n",
    "ChatLog = Text(base, bd=0, bg=\"white\", height=\"8\", width=\"50\", font=\"Arial\",)\n",
    "ChatLog.config(state=DISABLED)\n",
    "#Bind scrollbar to Chat window\n",
    "scrollbar = Scrollbar(base, command=ChatLog.yview, cursor=\"heart\")\n",
    "ChatLog['yscrollcommand'] = scrollbar.set\n",
    "#Create Button to send message\n",
    "SendButton = Button(base, font=(\"Verdana\",12,'bold'), text=\"Send\", width=\"12\", height=5,\n",
    "                    bd=0, bg=\"#32de97\", activebackground=\"#3c9d9b\",fg='#ffffff',\n",
    "                    command= send )\n",
    "#Create the box to enter message\n",
    "EntryBox = Text(base, bd=0, bg=\"white\",width=\"29\", height=\"5\", font=\"Arial\")\n",
    "#EntryBox.bind(\"<Return>\", send)\n",
    "#Place all components on the screen\n",
    "scrollbar.place(x=376,y=6, height=386)\n",
    "ChatLog.place(x=6,y=6, height=386, width=370)\n",
    "EntryBox.place(x=128, y=401, height=90, width=265)\n",
    "SendButton.place(x=6, y=401, height=90)\n",
    "base.mainloop()"
   ]
  },
  {
   "cell_type": "code",
   "execution_count": null,
   "id": "26b9dcde",
   "metadata": {},
   "outputs": [],
   "source": []
  },
  {
   "cell_type": "code",
   "execution_count": null,
   "id": "2a8f4986",
   "metadata": {},
   "outputs": [],
   "source": []
  }
 ],
 "metadata": {
  "colab": {
   "name": "Chatbot.ipynb",
   "provenance": []
  },
  "kernelspec": {
   "display_name": "Python 3 (ipykernel)",
   "language": "python",
   "name": "python3"
  },
  "language_info": {
   "codemirror_mode": {
    "name": "ipython",
    "version": 3
   },
   "file_extension": ".py",
   "mimetype": "text/x-python",
   "name": "python",
   "nbconvert_exporter": "python",
   "pygments_lexer": "ipython3",
   "version": "3.9.12"
  }
 },
 "nbformat": 4,
 "nbformat_minor": 5
}
